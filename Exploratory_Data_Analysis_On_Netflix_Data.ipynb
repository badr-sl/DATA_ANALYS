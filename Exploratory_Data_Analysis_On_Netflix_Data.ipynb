{
  "nbformat": 4,
  "nbformat_minor": 0,
  "metadata": {
    "colab": {
      "provenance": [],
      "authorship_tag": "ABX9TyOD7iQWc6ek7SLY+MuvgA/n",
      "include_colab_link": true
    },
    "kernelspec": {
      "name": "python3",
      "display_name": "Python 3"
    },
    "language_info": {
      "name": "python"
    }
  },
  "cells": [
    {
      "cell_type": "markdown",
      "metadata": {
        "id": "view-in-github",
        "colab_type": "text"
      },
      "source": [
        "<a href=\"https://colab.research.google.com/github/badr-sl/DATA_ANALYS/blob/main/Exploratory_Data_Analysis_On_Netflix_Data.ipynb\" target=\"_parent\"><img src=\"https://colab.research.google.com/assets/colab-badge.svg\" alt=\"Open In Colab\"/></a>"
      ]
    },
    {
      "cell_type": "code",
      "execution_count": null,
      "metadata": {
        "id": "VBNz08EuxPk2"
      },
      "outputs": [],
      "source": [
        "import pandas as pd\n",
        "import numpy as np\n",
        "import matplotlib.pyplot as plt\n",
        "import seaborn as sns\n",
        "plt.style.use('ggplot')\n",
        "pd.set_option(\"display.max_columns\", 100)"
      ]
    },
    {
      "cell_type": "markdown",
      "source": [
        "## pd.read_csv()"
      ],
      "metadata": {
        "id": "XusE5Eet27BH"
      }
    },
    {
      "cell_type": "code",
      "source": [
        "db= pd.read_csv('https://raw.githubusercontent.com/EMSIMa/ADD3IIR/main/Projet/Datasets/netflix.csv')"
      ],
      "metadata": {
        "id": "MOJwKUdFx-xg"
      },
      "execution_count": null,
      "outputs": []
    },
    {
      "cell_type": "markdown",
      "source": [
        "**•\t‘pd’ fait référence à la bibliothèque pandas, qui est utilisée pour la manipulation et l'analyse de données en Python.\n",
        "•\t‘read_csv’ est une fonction dans pandas utilisée pour lire des données à partir de fichiers CSV (valeurs séparées par des virgules).\n",
        "•\t'https://raw.githubusercontent.com/EMSIMa/ADD3IIR/main/Projet/Datasets/netflix.csv' est l'URL où se trouve le fichier CSV. Dans ce cas, il est stocké sur GitHub.\n",
        "•\t‘db’ est un nom de variable auquel nous assignons les données chargées.\n",
        "•\tAinsi, lorsque vous exécutez cette ligne de code, elle récupère le fichier CSV à partir de l'URL spécifiée et le charge dans un DataFrame pandas. Le DataFrame résultant sera stocké dans la variable db.**"
      ],
      "metadata": {
        "id": "ajm8xNgX2zDC"
      }
    },
    {
      "cell_type": "markdown",
      "source": [
        "\n",
        "# shape()"
      ],
      "metadata": {
        "id": "56WCpZKx1qfU"
      }
    },
    {
      "cell_type": "code",
      "source": [
        "db.shape"
      ],
      "metadata": {
        "colab": {
          "base_uri": "https://localhost:8080/"
        },
        "id": "Bhz42L9xykz0",
        "outputId": "39b30af2-cc87-4016-f4c0-8fd5ba0cf9ea"
      },
      "execution_count": null,
      "outputs": [
        {
          "output_type": "execute_result",
          "data": {
            "text/plain": [
              "(8807, 12)"
            ]
          },
          "metadata": {},
          "execution_count": 5
        }
      ]
    },
    {
      "cell_type": "markdown",
      "source": [
        "**La commande db.shape renvoie les dimensions (nombre de lignes et de colonnes) du DataFrame db. Plus précisément, elle renvoie un tuple de deux valeurs : le nombre de lignes et le nombre de colonnes respectivement.**\n",
        "\n",
        "**Par exemple, si db contient 100 lignes et 5 colonnes, la commande db.shape renverra le tuple (8807, 12). Cela signifie qu'il y a 100 lignes et 5 colonnes dans le DataFrame db.**"
      ],
      "metadata": {
        "id": "I7JvP3Dk3CnY"
      }
    },
    {
      "cell_type": "markdown",
      "source": [
        "# head()"
      ],
      "metadata": {
        "id": "VICo-99t2C2X"
      }
    },
    {
      "cell_type": "code",
      "source": [
        "db.head()"
      ],
      "metadata": {
        "colab": {
          "base_uri": "https://localhost:8080/",
          "height": 441
        },
        "id": "Im66NoYwyutI",
        "outputId": "677f0dff-7e07-4c62-cb82-86f534a79f7d"
      },
      "execution_count": null,
      "outputs": [
        {
          "output_type": "execute_result",
          "data": {
            "text/plain": [
              "  show_id     type                  title         director  \\\n",
              "0      s1    Movie   Dick Johnson Is Dead  Kirsten Johnson   \n",
              "1      s2  TV Show          Blood & Water              NaN   \n",
              "2      s3  TV Show              Ganglands  Julien Leclercq   \n",
              "3      s4  TV Show  Jailbirds New Orleans              NaN   \n",
              "4      s5  TV Show           Kota Factory              NaN   \n",
              "\n",
              "                                                cast        country  \\\n",
              "0                                                NaN  United States   \n",
              "1  Ama Qamata, Khosi Ngema, Gail Mabalane, Thaban...   South Africa   \n",
              "2  Sami Bouajila, Tracy Gotoas, Samuel Jouy, Nabi...            NaN   \n",
              "3                                                NaN            NaN   \n",
              "4  Mayur More, Jitendra Kumar, Ranjan Raj, Alam K...          India   \n",
              "\n",
              "           date_added  release_year rating   duration  \\\n",
              "0  September 25, 2021          2020  PG-13     90 min   \n",
              "1  September 24, 2021          2021  TV-MA  2 Seasons   \n",
              "2  September 24, 2021          2021  TV-MA   1 Season   \n",
              "3  September 24, 2021          2021  TV-MA   1 Season   \n",
              "4  September 24, 2021          2021  TV-MA  2 Seasons   \n",
              "\n",
              "                                           listed_in  \\\n",
              "0                                      Documentaries   \n",
              "1    International TV Shows, TV Dramas, TV Mysteries   \n",
              "2  Crime TV Shows, International TV Shows, TV Act...   \n",
              "3                             Docuseries, Reality TV   \n",
              "4  International TV Shows, Romantic TV Shows, TV ...   \n",
              "\n",
              "                                         description  \n",
              "0  As her father nears the end of his life, filmm...  \n",
              "1  After crossing paths at a party, a Cape Town t...  \n",
              "2  To protect his family from a powerful drug lor...  \n",
              "3  Feuds, flirtations and toilet talk go down amo...  \n",
              "4  In a city of coaching centers known to train I...  "
            ],
            "text/html": [
              "\n",
              "  <div id=\"df-d698617f-c9c1-4d71-b6ea-b1bea064cb94\">\n",
              "    <div class=\"colab-df-container\">\n",
              "      <div>\n",
              "<style scoped>\n",
              "    .dataframe tbody tr th:only-of-type {\n",
              "        vertical-align: middle;\n",
              "    }\n",
              "\n",
              "    .dataframe tbody tr th {\n",
              "        vertical-align: top;\n",
              "    }\n",
              "\n",
              "    .dataframe thead th {\n",
              "        text-align: right;\n",
              "    }\n",
              "</style>\n",
              "<table border=\"1\" class=\"dataframe\">\n",
              "  <thead>\n",
              "    <tr style=\"text-align: right;\">\n",
              "      <th></th>\n",
              "      <th>show_id</th>\n",
              "      <th>type</th>\n",
              "      <th>title</th>\n",
              "      <th>director</th>\n",
              "      <th>cast</th>\n",
              "      <th>country</th>\n",
              "      <th>date_added</th>\n",
              "      <th>release_year</th>\n",
              "      <th>rating</th>\n",
              "      <th>duration</th>\n",
              "      <th>listed_in</th>\n",
              "      <th>description</th>\n",
              "    </tr>\n",
              "  </thead>\n",
              "  <tbody>\n",
              "    <tr>\n",
              "      <th>0</th>\n",
              "      <td>s1</td>\n",
              "      <td>Movie</td>\n",
              "      <td>Dick Johnson Is Dead</td>\n",
              "      <td>Kirsten Johnson</td>\n",
              "      <td>NaN</td>\n",
              "      <td>United States</td>\n",
              "      <td>September 25, 2021</td>\n",
              "      <td>2020</td>\n",
              "      <td>PG-13</td>\n",
              "      <td>90 min</td>\n",
              "      <td>Documentaries</td>\n",
              "      <td>As her father nears the end of his life, filmm...</td>\n",
              "    </tr>\n",
              "    <tr>\n",
              "      <th>1</th>\n",
              "      <td>s2</td>\n",
              "      <td>TV Show</td>\n",
              "      <td>Blood &amp; Water</td>\n",
              "      <td>NaN</td>\n",
              "      <td>Ama Qamata, Khosi Ngema, Gail Mabalane, Thaban...</td>\n",
              "      <td>South Africa</td>\n",
              "      <td>September 24, 2021</td>\n",
              "      <td>2021</td>\n",
              "      <td>TV-MA</td>\n",
              "      <td>2 Seasons</td>\n",
              "      <td>International TV Shows, TV Dramas, TV Mysteries</td>\n",
              "      <td>After crossing paths at a party, a Cape Town t...</td>\n",
              "    </tr>\n",
              "    <tr>\n",
              "      <th>2</th>\n",
              "      <td>s3</td>\n",
              "      <td>TV Show</td>\n",
              "      <td>Ganglands</td>\n",
              "      <td>Julien Leclercq</td>\n",
              "      <td>Sami Bouajila, Tracy Gotoas, Samuel Jouy, Nabi...</td>\n",
              "      <td>NaN</td>\n",
              "      <td>September 24, 2021</td>\n",
              "      <td>2021</td>\n",
              "      <td>TV-MA</td>\n",
              "      <td>1 Season</td>\n",
              "      <td>Crime TV Shows, International TV Shows, TV Act...</td>\n",
              "      <td>To protect his family from a powerful drug lor...</td>\n",
              "    </tr>\n",
              "    <tr>\n",
              "      <th>3</th>\n",
              "      <td>s4</td>\n",
              "      <td>TV Show</td>\n",
              "      <td>Jailbirds New Orleans</td>\n",
              "      <td>NaN</td>\n",
              "      <td>NaN</td>\n",
              "      <td>NaN</td>\n",
              "      <td>September 24, 2021</td>\n",
              "      <td>2021</td>\n",
              "      <td>TV-MA</td>\n",
              "      <td>1 Season</td>\n",
              "      <td>Docuseries, Reality TV</td>\n",
              "      <td>Feuds, flirtations and toilet talk go down amo...</td>\n",
              "    </tr>\n",
              "    <tr>\n",
              "      <th>4</th>\n",
              "      <td>s5</td>\n",
              "      <td>TV Show</td>\n",
              "      <td>Kota Factory</td>\n",
              "      <td>NaN</td>\n",
              "      <td>Mayur More, Jitendra Kumar, Ranjan Raj, Alam K...</td>\n",
              "      <td>India</td>\n",
              "      <td>September 24, 2021</td>\n",
              "      <td>2021</td>\n",
              "      <td>TV-MA</td>\n",
              "      <td>2 Seasons</td>\n",
              "      <td>International TV Shows, Romantic TV Shows, TV ...</td>\n",
              "      <td>In a city of coaching centers known to train I...</td>\n",
              "    </tr>\n",
              "  </tbody>\n",
              "</table>\n",
              "</div>\n",
              "      <button class=\"colab-df-convert\" onclick=\"convertToInteractive('df-d698617f-c9c1-4d71-b6ea-b1bea064cb94')\"\n",
              "              title=\"Convert this dataframe to an interactive table.\"\n",
              "              style=\"display:none;\">\n",
              "        \n",
              "  <svg xmlns=\"http://www.w3.org/2000/svg\" height=\"24px\"viewBox=\"0 0 24 24\"\n",
              "       width=\"24px\">\n",
              "    <path d=\"M0 0h24v24H0V0z\" fill=\"none\"/>\n",
              "    <path d=\"M18.56 5.44l.94 2.06.94-2.06 2.06-.94-2.06-.94-.94-2.06-.94 2.06-2.06.94zm-11 1L8.5 8.5l.94-2.06 2.06-.94-2.06-.94L8.5 2.5l-.94 2.06-2.06.94zm10 10l.94 2.06.94-2.06 2.06-.94-2.06-.94-.94-2.06-.94 2.06-2.06.94z\"/><path d=\"M17.41 7.96l-1.37-1.37c-.4-.4-.92-.59-1.43-.59-.52 0-1.04.2-1.43.59L10.3 9.45l-7.72 7.72c-.78.78-.78 2.05 0 2.83L4 21.41c.39.39.9.59 1.41.59.51 0 1.02-.2 1.41-.59l7.78-7.78 2.81-2.81c.8-.78.8-2.07 0-2.86zM5.41 20L4 18.59l7.72-7.72 1.47 1.35L5.41 20z\"/>\n",
              "  </svg>\n",
              "      </button>\n",
              "      \n",
              "  <style>\n",
              "    .colab-df-container {\n",
              "      display:flex;\n",
              "      flex-wrap:wrap;\n",
              "      gap: 12px;\n",
              "    }\n",
              "\n",
              "    .colab-df-convert {\n",
              "      background-color: #E8F0FE;\n",
              "      border: none;\n",
              "      border-radius: 50%;\n",
              "      cursor: pointer;\n",
              "      display: none;\n",
              "      fill: #1967D2;\n",
              "      height: 32px;\n",
              "      padding: 0 0 0 0;\n",
              "      width: 32px;\n",
              "    }\n",
              "\n",
              "    .colab-df-convert:hover {\n",
              "      background-color: #E2EBFA;\n",
              "      box-shadow: 0px 1px 2px rgba(60, 64, 67, 0.3), 0px 1px 3px 1px rgba(60, 64, 67, 0.15);\n",
              "      fill: #174EA6;\n",
              "    }\n",
              "\n",
              "    [theme=dark] .colab-df-convert {\n",
              "      background-color: #3B4455;\n",
              "      fill: #D2E3FC;\n",
              "    }\n",
              "\n",
              "    [theme=dark] .colab-df-convert:hover {\n",
              "      background-color: #434B5C;\n",
              "      box-shadow: 0px 1px 3px 1px rgba(0, 0, 0, 0.15);\n",
              "      filter: drop-shadow(0px 1px 2px rgba(0, 0, 0, 0.3));\n",
              "      fill: #FFFFFF;\n",
              "    }\n",
              "  </style>\n",
              "\n",
              "      <script>\n",
              "        const buttonEl =\n",
              "          document.querySelector('#df-d698617f-c9c1-4d71-b6ea-b1bea064cb94 button.colab-df-convert');\n",
              "        buttonEl.style.display =\n",
              "          google.colab.kernel.accessAllowed ? 'block' : 'none';\n",
              "\n",
              "        async function convertToInteractive(key) {\n",
              "          const element = document.querySelector('#df-d698617f-c9c1-4d71-b6ea-b1bea064cb94');\n",
              "          const dataTable =\n",
              "            await google.colab.kernel.invokeFunction('convertToInteractive',\n",
              "                                                     [key], {});\n",
              "          if (!dataTable) return;\n",
              "\n",
              "          const docLinkHtml = 'Like what you see? Visit the ' +\n",
              "            '<a target=\"_blank\" href=https://colab.research.google.com/notebooks/data_table.ipynb>data table notebook</a>'\n",
              "            + ' to learn more about interactive tables.';\n",
              "          element.innerHTML = '';\n",
              "          dataTable['output_type'] = 'display_data';\n",
              "          await google.colab.output.renderOutput(dataTable, element);\n",
              "          const docLink = document.createElement('div');\n",
              "          docLink.innerHTML = docLinkHtml;\n",
              "          element.appendChild(docLink);\n",
              "        }\n",
              "      </script>\n",
              "    </div>\n",
              "  </div>\n",
              "  "
            ]
          },
          "metadata": {},
          "execution_count": 6
        }
      ]
    },
    {
      "cell_type": "markdown",
      "source": [
        "**La commande db.head() renvoie les premières lignes du DataFrame db. Par défaut, elle renvoie les 5 premières lignes, mais vous pouvez spécifier un nombre différent en passant un argument à la fonction head().**\n",
        "\n",
        "**C'est une commande utile pour visualiser rapidement les données et voir à quoi ressemble le DataFrame. Les premières lignes peuvent donner une idée des noms de colonnes et des valeurs contenues dans le DataFrame.**\n",
        "\n",
        "**Par exemple, si le DataFrame db contient des données sur les films et séries disponibles sur Netflix, la commande db.head() renverra les 5 premières lignes du DataFrame, avec des informations telles que le nom du film, la catégorie, l'année de sortie, etc.**"
      ],
      "metadata": {
        "id": "2gClYt0B3baG"
      }
    },
    {
      "cell_type": "markdown",
      "source": [
        "# columns"
      ],
      "metadata": {
        "id": "MPmrxw1V30Rv"
      }
    },
    {
      "cell_type": "code",
      "source": [
        "db.columns"
      ],
      "metadata": {
        "colab": {
          "base_uri": "https://localhost:8080/"
        },
        "id": "yH38cJxk0eWX",
        "outputId": "15dbff81-6ff5-4483-fea7-8aca2eab9288"
      },
      "execution_count": null,
      "outputs": [
        {
          "output_type": "execute_result",
          "data": {
            "text/plain": [
              "Index(['show_id', 'type', 'title', 'director', 'cast', 'country', 'date_added',\n",
              "       'release_year', 'rating', 'duration', 'listed_in', 'description'],\n",
              "      dtype='object')"
            ]
          },
          "metadata": {},
          "execution_count": 8
        }
      ]
    },
    {
      "cell_type": "markdown",
      "source": [
        "**La commande db.columns renvoie les noms des colonnes du DataFrame db. C'est une commande utile pour afficher les noms de colonnes et comprendre la structure du DataFrame.**\n",
        "\n",
        "**Par exemple, si le DataFrame db contient des données sur les films et séries disponibles sur Netflix, la commande db.columns renverra les noms de colonnes, tels que \"title\" (titre du film ou de la série), \"category\" (catégorie du contenu), \"release_year\" (année de sortie), etc. Ces noms de colonnes peuvent être utilisés pour accéder aux données de manière spécifique en utilisant d'autres fonctions de pandas.**"
      ],
      "metadata": {
        "id": "vrhLahXG3_0e"
      }
    },
    {
      "cell_type": "markdown",
      "source": [
        "# describe()"
      ],
      "metadata": {
        "id": "66_kHZGt4Dz2"
      }
    },
    {
      "cell_type": "code",
      "source": [
        "db.describe()"
      ],
      "metadata": {
        "colab": {
          "base_uri": "https://localhost:8080/",
          "height": 300
        },
        "id": "TxxlI61U03oJ",
        "outputId": "dd861797-c6e8-4d1a-fc03-a6d72fd1837a"
      },
      "execution_count": null,
      "outputs": [
        {
          "output_type": "execute_result",
          "data": {
            "text/plain": [
              "       release_year\n",
              "count   8807.000000\n",
              "mean    2014.180198\n",
              "std        8.819312\n",
              "min     1925.000000\n",
              "25%     2013.000000\n",
              "50%     2017.000000\n",
              "75%     2019.000000\n",
              "max     2021.000000"
            ],
            "text/html": [
              "\n",
              "  <div id=\"df-ae8d4440-1a58-4bc2-bfed-91e16b4a91b2\">\n",
              "    <div class=\"colab-df-container\">\n",
              "      <div>\n",
              "<style scoped>\n",
              "    .dataframe tbody tr th:only-of-type {\n",
              "        vertical-align: middle;\n",
              "    }\n",
              "\n",
              "    .dataframe tbody tr th {\n",
              "        vertical-align: top;\n",
              "    }\n",
              "\n",
              "    .dataframe thead th {\n",
              "        text-align: right;\n",
              "    }\n",
              "</style>\n",
              "<table border=\"1\" class=\"dataframe\">\n",
              "  <thead>\n",
              "    <tr style=\"text-align: right;\">\n",
              "      <th></th>\n",
              "      <th>release_year</th>\n",
              "    </tr>\n",
              "  </thead>\n",
              "  <tbody>\n",
              "    <tr>\n",
              "      <th>count</th>\n",
              "      <td>8807.000000</td>\n",
              "    </tr>\n",
              "    <tr>\n",
              "      <th>mean</th>\n",
              "      <td>2014.180198</td>\n",
              "    </tr>\n",
              "    <tr>\n",
              "      <th>std</th>\n",
              "      <td>8.819312</td>\n",
              "    </tr>\n",
              "    <tr>\n",
              "      <th>min</th>\n",
              "      <td>1925.000000</td>\n",
              "    </tr>\n",
              "    <tr>\n",
              "      <th>25%</th>\n",
              "      <td>2013.000000</td>\n",
              "    </tr>\n",
              "    <tr>\n",
              "      <th>50%</th>\n",
              "      <td>2017.000000</td>\n",
              "    </tr>\n",
              "    <tr>\n",
              "      <th>75%</th>\n",
              "      <td>2019.000000</td>\n",
              "    </tr>\n",
              "    <tr>\n",
              "      <th>max</th>\n",
              "      <td>2021.000000</td>\n",
              "    </tr>\n",
              "  </tbody>\n",
              "</table>\n",
              "</div>\n",
              "      <button class=\"colab-df-convert\" onclick=\"convertToInteractive('df-ae8d4440-1a58-4bc2-bfed-91e16b4a91b2')\"\n",
              "              title=\"Convert this dataframe to an interactive table.\"\n",
              "              style=\"display:none;\">\n",
              "        \n",
              "  <svg xmlns=\"http://www.w3.org/2000/svg\" height=\"24px\"viewBox=\"0 0 24 24\"\n",
              "       width=\"24px\">\n",
              "    <path d=\"M0 0h24v24H0V0z\" fill=\"none\"/>\n",
              "    <path d=\"M18.56 5.44l.94 2.06.94-2.06 2.06-.94-2.06-.94-.94-2.06-.94 2.06-2.06.94zm-11 1L8.5 8.5l.94-2.06 2.06-.94-2.06-.94L8.5 2.5l-.94 2.06-2.06.94zm10 10l.94 2.06.94-2.06 2.06-.94-2.06-.94-.94-2.06-.94 2.06-2.06.94z\"/><path d=\"M17.41 7.96l-1.37-1.37c-.4-.4-.92-.59-1.43-.59-.52 0-1.04.2-1.43.59L10.3 9.45l-7.72 7.72c-.78.78-.78 2.05 0 2.83L4 21.41c.39.39.9.59 1.41.59.51 0 1.02-.2 1.41-.59l7.78-7.78 2.81-2.81c.8-.78.8-2.07 0-2.86zM5.41 20L4 18.59l7.72-7.72 1.47 1.35L5.41 20z\"/>\n",
              "  </svg>\n",
              "      </button>\n",
              "      \n",
              "  <style>\n",
              "    .colab-df-container {\n",
              "      display:flex;\n",
              "      flex-wrap:wrap;\n",
              "      gap: 12px;\n",
              "    }\n",
              "\n",
              "    .colab-df-convert {\n",
              "      background-color: #E8F0FE;\n",
              "      border: none;\n",
              "      border-radius: 50%;\n",
              "      cursor: pointer;\n",
              "      display: none;\n",
              "      fill: #1967D2;\n",
              "      height: 32px;\n",
              "      padding: 0 0 0 0;\n",
              "      width: 32px;\n",
              "    }\n",
              "\n",
              "    .colab-df-convert:hover {\n",
              "      background-color: #E2EBFA;\n",
              "      box-shadow: 0px 1px 2px rgba(60, 64, 67, 0.3), 0px 1px 3px 1px rgba(60, 64, 67, 0.15);\n",
              "      fill: #174EA6;\n",
              "    }\n",
              "\n",
              "    [theme=dark] .colab-df-convert {\n",
              "      background-color: #3B4455;\n",
              "      fill: #D2E3FC;\n",
              "    }\n",
              "\n",
              "    [theme=dark] .colab-df-convert:hover {\n",
              "      background-color: #434B5C;\n",
              "      box-shadow: 0px 1px 3px 1px rgba(0, 0, 0, 0.15);\n",
              "      filter: drop-shadow(0px 1px 2px rgba(0, 0, 0, 0.3));\n",
              "      fill: #FFFFFF;\n",
              "    }\n",
              "  </style>\n",
              "\n",
              "      <script>\n",
              "        const buttonEl =\n",
              "          document.querySelector('#df-ae8d4440-1a58-4bc2-bfed-91e16b4a91b2 button.colab-df-convert');\n",
              "        buttonEl.style.display =\n",
              "          google.colab.kernel.accessAllowed ? 'block' : 'none';\n",
              "\n",
              "        async function convertToInteractive(key) {\n",
              "          const element = document.querySelector('#df-ae8d4440-1a58-4bc2-bfed-91e16b4a91b2');\n",
              "          const dataTable =\n",
              "            await google.colab.kernel.invokeFunction('convertToInteractive',\n",
              "                                                     [key], {});\n",
              "          if (!dataTable) return;\n",
              "\n",
              "          const docLinkHtml = 'Like what you see? Visit the ' +\n",
              "            '<a target=\"_blank\" href=https://colab.research.google.com/notebooks/data_table.ipynb>data table notebook</a>'\n",
              "            + ' to learn more about interactive tables.';\n",
              "          element.innerHTML = '';\n",
              "          dataTable['output_type'] = 'display_data';\n",
              "          await google.colab.output.renderOutput(dataTable, element);\n",
              "          const docLink = document.createElement('div');\n",
              "          docLink.innerHTML = docLinkHtml;\n",
              "          element.appendChild(docLink);\n",
              "        }\n",
              "      </script>\n",
              "    </div>\n",
              "  </div>\n",
              "  "
            ]
          },
          "metadata": {},
          "execution_count": 8
        }
      ]
    },
    {
      "cell_type": "markdown",
      "source": [
        "**La commande db.describe() renvoie un résumé statistique des données numériques du DataFrame db. Elle calcule des statistiques telles que la moyenne, l'écart type, les valeurs minimum et maximum, le quartile, etc.**\n",
        "\n",
        "**C'est une commande utile pour comprendre rapidement les propriétés des données numériques contenues dans le DataFrame.**\n",
        "\n",
        "**Par exemple, si le DataFrame db contient des données sur les films et séries disponibles sur Netflix, la commande db.describe() renverra des statistiques sur les colonnes numériques telles que \"release_year\" (année de sortie) ou \"duration\" (durée du contenu en minutes), etc.**"
      ],
      "metadata": {
        "id": "SFXETEyu4VWC"
      }
    },
    {
      "cell_type": "markdown",
      "source": [
        "# visualisation d'une colonne"
      ],
      "metadata": {
        "id": "oUVlaaqF4piU"
      }
    },
    {
      "cell_type": "code",
      "source": [
        "db[\"rating\"]"
      ],
      "metadata": {
        "colab": {
          "base_uri": "https://localhost:8080/"
        },
        "id": "neTep1cm4cYD",
        "outputId": "208895e5-1fe9-472f-a8ec-4e2159f14b68"
      },
      "execution_count": null,
      "outputs": [
        {
          "output_type": "execute_result",
          "data": {
            "text/plain": [
              "0       PG-13\n",
              "1       TV-MA\n",
              "2       TV-MA\n",
              "3       TV-MA\n",
              "4       TV-MA\n",
              "        ...  \n",
              "8802        R\n",
              "8803    TV-Y7\n",
              "8804        R\n",
              "8805       PG\n",
              "8806    TV-14\n",
              "Name: rating, Length: 8807, dtype: object"
            ]
          },
          "metadata": {},
          "execution_count": 9
        }
      ]
    },
    {
      "cell_type": "markdown",
      "source": [
        "**La commande db[\"rating\"] renvoie une série pandas contenant toutes les données de la colonne \"rating\" du DataFrame db. Cette commande est utile si vous souhaitez accéder à une colonne spécifique et que vous voulez travailler avec ses données.**"
      ],
      "metadata": {
        "id": "Leb5RX6p5e2O"
      }
    },
    {
      "cell_type": "markdown",
      "source": [
        "# .isna().sum()"
      ],
      "metadata": {
        "id": "h-ecM_8X5wl6"
      }
    },
    {
      "cell_type": "code",
      "source": [
        "#isna = is nall \n",
        "db.isna().sum()"
      ],
      "metadata": {
        "colab": {
          "base_uri": "https://localhost:8080/"
        },
        "id": "LONV6yCu582m",
        "outputId": "ee036523-281d-4699-ffc9-63922b8c0f6e"
      },
      "execution_count": null,
      "outputs": [
        {
          "output_type": "execute_result",
          "data": {
            "text/plain": [
              "show_id            0\n",
              "type               0\n",
              "title              0\n",
              "director        2634\n",
              "cast             825\n",
              "country          831\n",
              "date_added        10\n",
              "release_year       0\n",
              "rating             4\n",
              "duration           3\n",
              "listed_in          0\n",
              "description        0\n",
              "dtype: int64"
            ]
          },
          "metadata": {},
          "execution_count": 14
        }
      ]
    },
    {
      "cell_type": "markdown",
      "source": [
        "\n",
        "**La commande db.isna().sum() renvoie le nombre de valeurs manquantes dans chaque colonne du DataFrame db. Plus précisément, elle applique la méthode isna() pour chaque élément du DataFrame, renvoyant True s'il s'agit d'une valeur manquante (NaN), et False sinon. Ensuite, elle applique la méthode sum() pour chaque colonne, renvoyant le nombre total de valeurs manquantes pour chaque colonne.**\n",
        "\n",
        "**C'est une commande utile pour détecter rapidement les valeurs manquantes dans un DataFrame.**"
      ],
      "metadata": {
        "id": "sAWhs1w_5qGa"
      }
    },
    {
      "cell_type": "markdown",
      "source": [
        "# isnull()"
      ],
      "metadata": {
        "id": "39RtSLMX5zWa"
      }
    },
    {
      "cell_type": "code",
      "source": [
        "db.isnull() # bach nchofo kola columns wach null"
      ],
      "metadata": {
        "colab": {
          "base_uri": "https://localhost:8080/",
          "height": 424
        },
        "id": "sb-PJ3MqD-aJ",
        "outputId": "6a811b2f-b640-466e-9e26-4b32a6d230f5"
      },
      "execution_count": null,
      "outputs": [
        {
          "output_type": "execute_result",
          "data": {
            "text/plain": [
              "      show_id   type  title  director   cast  country  Date_Added   \\\n",
              "0       False  False  False     False   True    False        False   \n",
              "1       False  False  False      True  False    False        False   \n",
              "2       False  False  False     False  False     True        False   \n",
              "3       False  False  False      True   True     True        False   \n",
              "4       False  False  False      True  False    False        False   \n",
              "...       ...    ...    ...       ...    ...      ...          ...   \n",
              "8802    False  False  False     False  False    False        False   \n",
              "8803    False  False  False      True   True     True        False   \n",
              "8804    False  False  False     False  False    False        False   \n",
              "8805    False  False  False     False  False    False        False   \n",
              "8806    False  False  False     False  False    False        False   \n",
              "\n",
              "      release_year  rating  duration  listed_in  description  \n",
              "0            False   False     False      False        False  \n",
              "1            False   False     False      False        False  \n",
              "2            False   False     False      False        False  \n",
              "3            False   False     False      False        False  \n",
              "4            False   False     False      False        False  \n",
              "...            ...     ...       ...        ...          ...  \n",
              "8802         False   False     False      False        False  \n",
              "8803         False   False     False      False        False  \n",
              "8804         False   False     False      False        False  \n",
              "8805         False   False     False      False        False  \n",
              "8806         False   False     False      False        False  \n",
              "\n",
              "[8807 rows x 12 columns]"
            ],
            "text/html": [
              "\n",
              "  <div id=\"df-81945587-08ad-4649-8f86-fc83d81785ef\">\n",
              "    <div class=\"colab-df-container\">\n",
              "      <div>\n",
              "<style scoped>\n",
              "    .dataframe tbody tr th:only-of-type {\n",
              "        vertical-align: middle;\n",
              "    }\n",
              "\n",
              "    .dataframe tbody tr th {\n",
              "        vertical-align: top;\n",
              "    }\n",
              "\n",
              "    .dataframe thead th {\n",
              "        text-align: right;\n",
              "    }\n",
              "</style>\n",
              "<table border=\"1\" class=\"dataframe\">\n",
              "  <thead>\n",
              "    <tr style=\"text-align: right;\">\n",
              "      <th></th>\n",
              "      <th>show_id</th>\n",
              "      <th>type</th>\n",
              "      <th>title</th>\n",
              "      <th>director</th>\n",
              "      <th>cast</th>\n",
              "      <th>country</th>\n",
              "      <th>Date_Added</th>\n",
              "      <th>release_year</th>\n",
              "      <th>rating</th>\n",
              "      <th>duration</th>\n",
              "      <th>listed_in</th>\n",
              "      <th>description</th>\n",
              "    </tr>\n",
              "  </thead>\n",
              "  <tbody>\n",
              "    <tr>\n",
              "      <th>0</th>\n",
              "      <td>False</td>\n",
              "      <td>False</td>\n",
              "      <td>False</td>\n",
              "      <td>False</td>\n",
              "      <td>True</td>\n",
              "      <td>False</td>\n",
              "      <td>False</td>\n",
              "      <td>False</td>\n",
              "      <td>False</td>\n",
              "      <td>False</td>\n",
              "      <td>False</td>\n",
              "      <td>False</td>\n",
              "    </tr>\n",
              "    <tr>\n",
              "      <th>1</th>\n",
              "      <td>False</td>\n",
              "      <td>False</td>\n",
              "      <td>False</td>\n",
              "      <td>True</td>\n",
              "      <td>False</td>\n",
              "      <td>False</td>\n",
              "      <td>False</td>\n",
              "      <td>False</td>\n",
              "      <td>False</td>\n",
              "      <td>False</td>\n",
              "      <td>False</td>\n",
              "      <td>False</td>\n",
              "    </tr>\n",
              "    <tr>\n",
              "      <th>2</th>\n",
              "      <td>False</td>\n",
              "      <td>False</td>\n",
              "      <td>False</td>\n",
              "      <td>False</td>\n",
              "      <td>False</td>\n",
              "      <td>True</td>\n",
              "      <td>False</td>\n",
              "      <td>False</td>\n",
              "      <td>False</td>\n",
              "      <td>False</td>\n",
              "      <td>False</td>\n",
              "      <td>False</td>\n",
              "    </tr>\n",
              "    <tr>\n",
              "      <th>3</th>\n",
              "      <td>False</td>\n",
              "      <td>False</td>\n",
              "      <td>False</td>\n",
              "      <td>True</td>\n",
              "      <td>True</td>\n",
              "      <td>True</td>\n",
              "      <td>False</td>\n",
              "      <td>False</td>\n",
              "      <td>False</td>\n",
              "      <td>False</td>\n",
              "      <td>False</td>\n",
              "      <td>False</td>\n",
              "    </tr>\n",
              "    <tr>\n",
              "      <th>4</th>\n",
              "      <td>False</td>\n",
              "      <td>False</td>\n",
              "      <td>False</td>\n",
              "      <td>True</td>\n",
              "      <td>False</td>\n",
              "      <td>False</td>\n",
              "      <td>False</td>\n",
              "      <td>False</td>\n",
              "      <td>False</td>\n",
              "      <td>False</td>\n",
              "      <td>False</td>\n",
              "      <td>False</td>\n",
              "    </tr>\n",
              "    <tr>\n",
              "      <th>...</th>\n",
              "      <td>...</td>\n",
              "      <td>...</td>\n",
              "      <td>...</td>\n",
              "      <td>...</td>\n",
              "      <td>...</td>\n",
              "      <td>...</td>\n",
              "      <td>...</td>\n",
              "      <td>...</td>\n",
              "      <td>...</td>\n",
              "      <td>...</td>\n",
              "      <td>...</td>\n",
              "      <td>...</td>\n",
              "    </tr>\n",
              "    <tr>\n",
              "      <th>8802</th>\n",
              "      <td>False</td>\n",
              "      <td>False</td>\n",
              "      <td>False</td>\n",
              "      <td>False</td>\n",
              "      <td>False</td>\n",
              "      <td>False</td>\n",
              "      <td>False</td>\n",
              "      <td>False</td>\n",
              "      <td>False</td>\n",
              "      <td>False</td>\n",
              "      <td>False</td>\n",
              "      <td>False</td>\n",
              "    </tr>\n",
              "    <tr>\n",
              "      <th>8803</th>\n",
              "      <td>False</td>\n",
              "      <td>False</td>\n",
              "      <td>False</td>\n",
              "      <td>True</td>\n",
              "      <td>True</td>\n",
              "      <td>True</td>\n",
              "      <td>False</td>\n",
              "      <td>False</td>\n",
              "      <td>False</td>\n",
              "      <td>False</td>\n",
              "      <td>False</td>\n",
              "      <td>False</td>\n",
              "    </tr>\n",
              "    <tr>\n",
              "      <th>8804</th>\n",
              "      <td>False</td>\n",
              "      <td>False</td>\n",
              "      <td>False</td>\n",
              "      <td>False</td>\n",
              "      <td>False</td>\n",
              "      <td>False</td>\n",
              "      <td>False</td>\n",
              "      <td>False</td>\n",
              "      <td>False</td>\n",
              "      <td>False</td>\n",
              "      <td>False</td>\n",
              "      <td>False</td>\n",
              "    </tr>\n",
              "    <tr>\n",
              "      <th>8805</th>\n",
              "      <td>False</td>\n",
              "      <td>False</td>\n",
              "      <td>False</td>\n",
              "      <td>False</td>\n",
              "      <td>False</td>\n",
              "      <td>False</td>\n",
              "      <td>False</td>\n",
              "      <td>False</td>\n",
              "      <td>False</td>\n",
              "      <td>False</td>\n",
              "      <td>False</td>\n",
              "      <td>False</td>\n",
              "    </tr>\n",
              "    <tr>\n",
              "      <th>8806</th>\n",
              "      <td>False</td>\n",
              "      <td>False</td>\n",
              "      <td>False</td>\n",
              "      <td>False</td>\n",
              "      <td>False</td>\n",
              "      <td>False</td>\n",
              "      <td>False</td>\n",
              "      <td>False</td>\n",
              "      <td>False</td>\n",
              "      <td>False</td>\n",
              "      <td>False</td>\n",
              "      <td>False</td>\n",
              "    </tr>\n",
              "  </tbody>\n",
              "</table>\n",
              "<p>8807 rows × 12 columns</p>\n",
              "</div>\n",
              "      <button class=\"colab-df-convert\" onclick=\"convertToInteractive('df-81945587-08ad-4649-8f86-fc83d81785ef')\"\n",
              "              title=\"Convert this dataframe to an interactive table.\"\n",
              "              style=\"display:none;\">\n",
              "        \n",
              "  <svg xmlns=\"http://www.w3.org/2000/svg\" height=\"24px\"viewBox=\"0 0 24 24\"\n",
              "       width=\"24px\">\n",
              "    <path d=\"M0 0h24v24H0V0z\" fill=\"none\"/>\n",
              "    <path d=\"M18.56 5.44l.94 2.06.94-2.06 2.06-.94-2.06-.94-.94-2.06-.94 2.06-2.06.94zm-11 1L8.5 8.5l.94-2.06 2.06-.94-2.06-.94L8.5 2.5l-.94 2.06-2.06.94zm10 10l.94 2.06.94-2.06 2.06-.94-2.06-.94-.94-2.06-.94 2.06-2.06.94z\"/><path d=\"M17.41 7.96l-1.37-1.37c-.4-.4-.92-.59-1.43-.59-.52 0-1.04.2-1.43.59L10.3 9.45l-7.72 7.72c-.78.78-.78 2.05 0 2.83L4 21.41c.39.39.9.59 1.41.59.51 0 1.02-.2 1.41-.59l7.78-7.78 2.81-2.81c.8-.78.8-2.07 0-2.86zM5.41 20L4 18.59l7.72-7.72 1.47 1.35L5.41 20z\"/>\n",
              "  </svg>\n",
              "      </button>\n",
              "      \n",
              "  <style>\n",
              "    .colab-df-container {\n",
              "      display:flex;\n",
              "      flex-wrap:wrap;\n",
              "      gap: 12px;\n",
              "    }\n",
              "\n",
              "    .colab-df-convert {\n",
              "      background-color: #E8F0FE;\n",
              "      border: none;\n",
              "      border-radius: 50%;\n",
              "      cursor: pointer;\n",
              "      display: none;\n",
              "      fill: #1967D2;\n",
              "      height: 32px;\n",
              "      padding: 0 0 0 0;\n",
              "      width: 32px;\n",
              "    }\n",
              "\n",
              "    .colab-df-convert:hover {\n",
              "      background-color: #E2EBFA;\n",
              "      box-shadow: 0px 1px 2px rgba(60, 64, 67, 0.3), 0px 1px 3px 1px rgba(60, 64, 67, 0.15);\n",
              "      fill: #174EA6;\n",
              "    }\n",
              "\n",
              "    [theme=dark] .colab-df-convert {\n",
              "      background-color: #3B4455;\n",
              "      fill: #D2E3FC;\n",
              "    }\n",
              "\n",
              "    [theme=dark] .colab-df-convert:hover {\n",
              "      background-color: #434B5C;\n",
              "      box-shadow: 0px 1px 3px 1px rgba(0, 0, 0, 0.15);\n",
              "      filter: drop-shadow(0px 1px 2px rgba(0, 0, 0, 0.3));\n",
              "      fill: #FFFFFF;\n",
              "    }\n",
              "  </style>\n",
              "\n",
              "      <script>\n",
              "        const buttonEl =\n",
              "          document.querySelector('#df-81945587-08ad-4649-8f86-fc83d81785ef button.colab-df-convert');\n",
              "        buttonEl.style.display =\n",
              "          google.colab.kernel.accessAllowed ? 'block' : 'none';\n",
              "\n",
              "        async function convertToInteractive(key) {\n",
              "          const element = document.querySelector('#df-81945587-08ad-4649-8f86-fc83d81785ef');\n",
              "          const dataTable =\n",
              "            await google.colab.kernel.invokeFunction('convertToInteractive',\n",
              "                                                     [key], {});\n",
              "          if (!dataTable) return;\n",
              "\n",
              "          const docLinkHtml = 'Like what you see? Visit the ' +\n",
              "            '<a target=\"_blank\" href=https://colab.research.google.com/notebooks/data_table.ipynb>data table notebook</a>'\n",
              "            + ' to learn more about interactive tables.';\n",
              "          element.innerHTML = '';\n",
              "          dataTable['output_type'] = 'display_data';\n",
              "          await google.colab.output.renderOutput(dataTable, element);\n",
              "          const docLink = document.createElement('div');\n",
              "          docLink.innerHTML = docLinkHtml;\n",
              "          element.appendChild(docLink);\n",
              "        }\n",
              "      </script>\n",
              "    </div>\n",
              "  </div>\n",
              "  "
            ]
          },
          "metadata": {},
          "execution_count": 39
        }
      ]
    },
    {
      "cell_type": "markdown",
      "source": [
        "**La commande db.isnull() renvoie un DataFrame booléen où chaque élément est égal à True s'il s'agit d'une valeur manquante (NaN), et False sinon. Cette commande est utile pour repérer les valeurs manquantes dans le DataFrame.**\n",
        "\n",
        "**Par exemple, si le DataFrame db contient des données sur les films et séries disponibles sur Netflix, la commande 'db.isnull()' renverra un DataFrame avec la même forme que db, mais avec des valeurs booléennes indiquant les valeurs manquantes. Vous pouvez ensuite utiliser des fonctions de pandas pour traiter les valeurs manquantes, telles que 'fillna()' pour remplacer les valeurs manquantes par une valeur spécifique ou 'dropna()' pour supprimer les lignes ou colonnes contenant des valeurs manquantes.**"
      ],
      "metadata": {
        "id": "2LCWqKy253g6"
      }
    },
    {
      "cell_type": "markdown",
      "source": [
        "# Le code suivant renomme les colonnes 'show_id' et 'date_added' d'une DataFrame :"
      ],
      "metadata": {
        "id": "IOCVv7BJ6S1Q"
      }
    },
    {
      "cell_type": "code",
      "source": [
        "db.rename(columns={'show_id':'Show_Id','date_added':'Date_Added'})"
      ],
      "metadata": {
        "id": "8W3euuSX6SHE",
        "colab": {
          "base_uri": "https://localhost:8080/",
          "height": 884
        },
        "outputId": "cfd170cf-be4f-493a-a96b-64ba5281b9a6"
      },
      "execution_count": null,
      "outputs": [
        {
          "output_type": "execute_result",
          "data": {
            "text/plain": [
              "     Show_Id     type                  title         director  \\\n",
              "0         s1    Movie   Dick Johnson Is Dead  Kirsten Johnson   \n",
              "1         s2  TV Show          Blood & Water              NaN   \n",
              "2         s3  TV Show              Ganglands  Julien Leclercq   \n",
              "3         s4  TV Show  Jailbirds New Orleans              NaN   \n",
              "4         s5  TV Show           Kota Factory              NaN   \n",
              "...      ...      ...                    ...              ...   \n",
              "8802   s8803    Movie                 Zodiac    David Fincher   \n",
              "8803   s8804  TV Show            Zombie Dumb              NaN   \n",
              "8804   s8805    Movie             Zombieland  Ruben Fleischer   \n",
              "8805   s8806    Movie                   Zoom     Peter Hewitt   \n",
              "8806   s8807    Movie                 Zubaan      Mozez Singh   \n",
              "\n",
              "                                                   cast        country  \\\n",
              "0                                                   NaN  United States   \n",
              "1     Ama Qamata, Khosi Ngema, Gail Mabalane, Thaban...   South Africa   \n",
              "2     Sami Bouajila, Tracy Gotoas, Samuel Jouy, Nabi...            NaN   \n",
              "3                                                   NaN            NaN   \n",
              "4     Mayur More, Jitendra Kumar, Ranjan Raj, Alam K...          India   \n",
              "...                                                 ...            ...   \n",
              "8802  Mark Ruffalo, Jake Gyllenhaal, Robert Downey J...  United States   \n",
              "8803                                                NaN            NaN   \n",
              "8804  Jesse Eisenberg, Woody Harrelson, Emma Stone, ...  United States   \n",
              "8805  Tim Allen, Courteney Cox, Chevy Chase, Kate Ma...  United States   \n",
              "8806  Vicky Kaushal, Sarah-Jane Dias, Raaghav Chanan...          India   \n",
              "\n",
              "             Date_Added   release_year rating   duration  \\\n",
              "0     September 25, 2021          2020  PG-13     90 min   \n",
              "1     September 24, 2021          2021  TV-MA  2 Seasons   \n",
              "2     September 24, 2021          2021  TV-MA   1 Season   \n",
              "3     September 24, 2021          2021  TV-MA   1 Season   \n",
              "4     September 24, 2021          2021  TV-MA  2 Seasons   \n",
              "...                  ...           ...    ...        ...   \n",
              "8802   November 20, 2019          2007      R    158 min   \n",
              "8803        July 1, 2019          2018  TV-Y7  2 Seasons   \n",
              "8804    November 1, 2019          2009      R     88 min   \n",
              "8805    January 11, 2020          2006     PG     88 min   \n",
              "8806       March 2, 2019          2015  TV-14    111 min   \n",
              "\n",
              "                                              listed_in  \\\n",
              "0                                         Documentaries   \n",
              "1       International TV Shows, TV Dramas, TV Mysteries   \n",
              "2     Crime TV Shows, International TV Shows, TV Act...   \n",
              "3                                Docuseries, Reality TV   \n",
              "4     International TV Shows, Romantic TV Shows, TV ...   \n",
              "...                                                 ...   \n",
              "8802                     Cult Movies, Dramas, Thrillers   \n",
              "8803             Kids' TV, Korean TV Shows, TV Comedies   \n",
              "8804                            Comedies, Horror Movies   \n",
              "8805                 Children & Family Movies, Comedies   \n",
              "8806     Dramas, International Movies, Music & Musicals   \n",
              "\n",
              "                                            description  \n",
              "0     As her father nears the end of his life, filmm...  \n",
              "1     After crossing paths at a party, a Cape Town t...  \n",
              "2     To protect his family from a powerful drug lor...  \n",
              "3     Feuds, flirtations and toilet talk go down amo...  \n",
              "4     In a city of coaching centers known to train I...  \n",
              "...                                                 ...  \n",
              "8802  A political cartoonist, a crime reporter and a...  \n",
              "8803  While living alone in a spooky town, a young g...  \n",
              "8804  Looking to survive in a world taken over by zo...  \n",
              "8805  Dragged from civilian life, a former superhero...  \n",
              "8806  A scrappy but poor boy worms his way into a ty...  \n",
              "\n",
              "[8807 rows x 12 columns]"
            ],
            "text/html": [
              "\n",
              "  <div id=\"df-2e69cfdc-bbb1-4929-b131-ed330c8da9c1\">\n",
              "    <div class=\"colab-df-container\">\n",
              "      <div>\n",
              "<style scoped>\n",
              "    .dataframe tbody tr th:only-of-type {\n",
              "        vertical-align: middle;\n",
              "    }\n",
              "\n",
              "    .dataframe tbody tr th {\n",
              "        vertical-align: top;\n",
              "    }\n",
              "\n",
              "    .dataframe thead th {\n",
              "        text-align: right;\n",
              "    }\n",
              "</style>\n",
              "<table border=\"1\" class=\"dataframe\">\n",
              "  <thead>\n",
              "    <tr style=\"text-align: right;\">\n",
              "      <th></th>\n",
              "      <th>Show_Id</th>\n",
              "      <th>type</th>\n",
              "      <th>title</th>\n",
              "      <th>director</th>\n",
              "      <th>cast</th>\n",
              "      <th>country</th>\n",
              "      <th>Date_Added</th>\n",
              "      <th>release_year</th>\n",
              "      <th>rating</th>\n",
              "      <th>duration</th>\n",
              "      <th>listed_in</th>\n",
              "      <th>description</th>\n",
              "    </tr>\n",
              "  </thead>\n",
              "  <tbody>\n",
              "    <tr>\n",
              "      <th>0</th>\n",
              "      <td>s1</td>\n",
              "      <td>Movie</td>\n",
              "      <td>Dick Johnson Is Dead</td>\n",
              "      <td>Kirsten Johnson</td>\n",
              "      <td>NaN</td>\n",
              "      <td>United States</td>\n",
              "      <td>September 25, 2021</td>\n",
              "      <td>2020</td>\n",
              "      <td>PG-13</td>\n",
              "      <td>90 min</td>\n",
              "      <td>Documentaries</td>\n",
              "      <td>As her father nears the end of his life, filmm...</td>\n",
              "    </tr>\n",
              "    <tr>\n",
              "      <th>1</th>\n",
              "      <td>s2</td>\n",
              "      <td>TV Show</td>\n",
              "      <td>Blood &amp; Water</td>\n",
              "      <td>NaN</td>\n",
              "      <td>Ama Qamata, Khosi Ngema, Gail Mabalane, Thaban...</td>\n",
              "      <td>South Africa</td>\n",
              "      <td>September 24, 2021</td>\n",
              "      <td>2021</td>\n",
              "      <td>TV-MA</td>\n",
              "      <td>2 Seasons</td>\n",
              "      <td>International TV Shows, TV Dramas, TV Mysteries</td>\n",
              "      <td>After crossing paths at a party, a Cape Town t...</td>\n",
              "    </tr>\n",
              "    <tr>\n",
              "      <th>2</th>\n",
              "      <td>s3</td>\n",
              "      <td>TV Show</td>\n",
              "      <td>Ganglands</td>\n",
              "      <td>Julien Leclercq</td>\n",
              "      <td>Sami Bouajila, Tracy Gotoas, Samuel Jouy, Nabi...</td>\n",
              "      <td>NaN</td>\n",
              "      <td>September 24, 2021</td>\n",
              "      <td>2021</td>\n",
              "      <td>TV-MA</td>\n",
              "      <td>1 Season</td>\n",
              "      <td>Crime TV Shows, International TV Shows, TV Act...</td>\n",
              "      <td>To protect his family from a powerful drug lor...</td>\n",
              "    </tr>\n",
              "    <tr>\n",
              "      <th>3</th>\n",
              "      <td>s4</td>\n",
              "      <td>TV Show</td>\n",
              "      <td>Jailbirds New Orleans</td>\n",
              "      <td>NaN</td>\n",
              "      <td>NaN</td>\n",
              "      <td>NaN</td>\n",
              "      <td>September 24, 2021</td>\n",
              "      <td>2021</td>\n",
              "      <td>TV-MA</td>\n",
              "      <td>1 Season</td>\n",
              "      <td>Docuseries, Reality TV</td>\n",
              "      <td>Feuds, flirtations and toilet talk go down amo...</td>\n",
              "    </tr>\n",
              "    <tr>\n",
              "      <th>4</th>\n",
              "      <td>s5</td>\n",
              "      <td>TV Show</td>\n",
              "      <td>Kota Factory</td>\n",
              "      <td>NaN</td>\n",
              "      <td>Mayur More, Jitendra Kumar, Ranjan Raj, Alam K...</td>\n",
              "      <td>India</td>\n",
              "      <td>September 24, 2021</td>\n",
              "      <td>2021</td>\n",
              "      <td>TV-MA</td>\n",
              "      <td>2 Seasons</td>\n",
              "      <td>International TV Shows, Romantic TV Shows, TV ...</td>\n",
              "      <td>In a city of coaching centers known to train I...</td>\n",
              "    </tr>\n",
              "    <tr>\n",
              "      <th>...</th>\n",
              "      <td>...</td>\n",
              "      <td>...</td>\n",
              "      <td>...</td>\n",
              "      <td>...</td>\n",
              "      <td>...</td>\n",
              "      <td>...</td>\n",
              "      <td>...</td>\n",
              "      <td>...</td>\n",
              "      <td>...</td>\n",
              "      <td>...</td>\n",
              "      <td>...</td>\n",
              "      <td>...</td>\n",
              "    </tr>\n",
              "    <tr>\n",
              "      <th>8802</th>\n",
              "      <td>s8803</td>\n",
              "      <td>Movie</td>\n",
              "      <td>Zodiac</td>\n",
              "      <td>David Fincher</td>\n",
              "      <td>Mark Ruffalo, Jake Gyllenhaal, Robert Downey J...</td>\n",
              "      <td>United States</td>\n",
              "      <td>November 20, 2019</td>\n",
              "      <td>2007</td>\n",
              "      <td>R</td>\n",
              "      <td>158 min</td>\n",
              "      <td>Cult Movies, Dramas, Thrillers</td>\n",
              "      <td>A political cartoonist, a crime reporter and a...</td>\n",
              "    </tr>\n",
              "    <tr>\n",
              "      <th>8803</th>\n",
              "      <td>s8804</td>\n",
              "      <td>TV Show</td>\n",
              "      <td>Zombie Dumb</td>\n",
              "      <td>NaN</td>\n",
              "      <td>NaN</td>\n",
              "      <td>NaN</td>\n",
              "      <td>July 1, 2019</td>\n",
              "      <td>2018</td>\n",
              "      <td>TV-Y7</td>\n",
              "      <td>2 Seasons</td>\n",
              "      <td>Kids' TV, Korean TV Shows, TV Comedies</td>\n",
              "      <td>While living alone in a spooky town, a young g...</td>\n",
              "    </tr>\n",
              "    <tr>\n",
              "      <th>8804</th>\n",
              "      <td>s8805</td>\n",
              "      <td>Movie</td>\n",
              "      <td>Zombieland</td>\n",
              "      <td>Ruben Fleischer</td>\n",
              "      <td>Jesse Eisenberg, Woody Harrelson, Emma Stone, ...</td>\n",
              "      <td>United States</td>\n",
              "      <td>November 1, 2019</td>\n",
              "      <td>2009</td>\n",
              "      <td>R</td>\n",
              "      <td>88 min</td>\n",
              "      <td>Comedies, Horror Movies</td>\n",
              "      <td>Looking to survive in a world taken over by zo...</td>\n",
              "    </tr>\n",
              "    <tr>\n",
              "      <th>8805</th>\n",
              "      <td>s8806</td>\n",
              "      <td>Movie</td>\n",
              "      <td>Zoom</td>\n",
              "      <td>Peter Hewitt</td>\n",
              "      <td>Tim Allen, Courteney Cox, Chevy Chase, Kate Ma...</td>\n",
              "      <td>United States</td>\n",
              "      <td>January 11, 2020</td>\n",
              "      <td>2006</td>\n",
              "      <td>PG</td>\n",
              "      <td>88 min</td>\n",
              "      <td>Children &amp; Family Movies, Comedies</td>\n",
              "      <td>Dragged from civilian life, a former superhero...</td>\n",
              "    </tr>\n",
              "    <tr>\n",
              "      <th>8806</th>\n",
              "      <td>s8807</td>\n",
              "      <td>Movie</td>\n",
              "      <td>Zubaan</td>\n",
              "      <td>Mozez Singh</td>\n",
              "      <td>Vicky Kaushal, Sarah-Jane Dias, Raaghav Chanan...</td>\n",
              "      <td>India</td>\n",
              "      <td>March 2, 2019</td>\n",
              "      <td>2015</td>\n",
              "      <td>TV-14</td>\n",
              "      <td>111 min</td>\n",
              "      <td>Dramas, International Movies, Music &amp; Musicals</td>\n",
              "      <td>A scrappy but poor boy worms his way into a ty...</td>\n",
              "    </tr>\n",
              "  </tbody>\n",
              "</table>\n",
              "<p>8807 rows × 12 columns</p>\n",
              "</div>\n",
              "      <button class=\"colab-df-convert\" onclick=\"convertToInteractive('df-2e69cfdc-bbb1-4929-b131-ed330c8da9c1')\"\n",
              "              title=\"Convert this dataframe to an interactive table.\"\n",
              "              style=\"display:none;\">\n",
              "        \n",
              "  <svg xmlns=\"http://www.w3.org/2000/svg\" height=\"24px\"viewBox=\"0 0 24 24\"\n",
              "       width=\"24px\">\n",
              "    <path d=\"M0 0h24v24H0V0z\" fill=\"none\"/>\n",
              "    <path d=\"M18.56 5.44l.94 2.06.94-2.06 2.06-.94-2.06-.94-.94-2.06-.94 2.06-2.06.94zm-11 1L8.5 8.5l.94-2.06 2.06-.94-2.06-.94L8.5 2.5l-.94 2.06-2.06.94zm10 10l.94 2.06.94-2.06 2.06-.94-2.06-.94-.94-2.06-.94 2.06-2.06.94z\"/><path d=\"M17.41 7.96l-1.37-1.37c-.4-.4-.92-.59-1.43-.59-.52 0-1.04.2-1.43.59L10.3 9.45l-7.72 7.72c-.78.78-.78 2.05 0 2.83L4 21.41c.39.39.9.59 1.41.59.51 0 1.02-.2 1.41-.59l7.78-7.78 2.81-2.81c.8-.78.8-2.07 0-2.86zM5.41 20L4 18.59l7.72-7.72 1.47 1.35L5.41 20z\"/>\n",
              "  </svg>\n",
              "      </button>\n",
              "      \n",
              "  <style>\n",
              "    .colab-df-container {\n",
              "      display:flex;\n",
              "      flex-wrap:wrap;\n",
              "      gap: 12px;\n",
              "    }\n",
              "\n",
              "    .colab-df-convert {\n",
              "      background-color: #E8F0FE;\n",
              "      border: none;\n",
              "      border-radius: 50%;\n",
              "      cursor: pointer;\n",
              "      display: none;\n",
              "      fill: #1967D2;\n",
              "      height: 32px;\n",
              "      padding: 0 0 0 0;\n",
              "      width: 32px;\n",
              "    }\n",
              "\n",
              "    .colab-df-convert:hover {\n",
              "      background-color: #E2EBFA;\n",
              "      box-shadow: 0px 1px 2px rgba(60, 64, 67, 0.3), 0px 1px 3px 1px rgba(60, 64, 67, 0.15);\n",
              "      fill: #174EA6;\n",
              "    }\n",
              "\n",
              "    [theme=dark] .colab-df-convert {\n",
              "      background-color: #3B4455;\n",
              "      fill: #D2E3FC;\n",
              "    }\n",
              "\n",
              "    [theme=dark] .colab-df-convert:hover {\n",
              "      background-color: #434B5C;\n",
              "      box-shadow: 0px 1px 3px 1px rgba(0, 0, 0, 0.15);\n",
              "      filter: drop-shadow(0px 1px 2px rgba(0, 0, 0, 0.3));\n",
              "      fill: #FFFFFF;\n",
              "    }\n",
              "  </style>\n",
              "\n",
              "      <script>\n",
              "        const buttonEl =\n",
              "          document.querySelector('#df-2e69cfdc-bbb1-4929-b131-ed330c8da9c1 button.colab-df-convert');\n",
              "        buttonEl.style.display =\n",
              "          google.colab.kernel.accessAllowed ? 'block' : 'none';\n",
              "\n",
              "        async function convertToInteractive(key) {\n",
              "          const element = document.querySelector('#df-2e69cfdc-bbb1-4929-b131-ed330c8da9c1');\n",
              "          const dataTable =\n",
              "            await google.colab.kernel.invokeFunction('convertToInteractive',\n",
              "                                                     [key], {});\n",
              "          if (!dataTable) return;\n",
              "\n",
              "          const docLinkHtml = 'Like what you see? Visit the ' +\n",
              "            '<a target=\"_blank\" href=https://colab.research.google.com/notebooks/data_table.ipynb>data table notebook</a>'\n",
              "            + ' to learn more about interactive tables.';\n",
              "          element.innerHTML = '';\n",
              "          dataTable['output_type'] = 'display_data';\n",
              "          await google.colab.output.renderOutput(dataTable, element);\n",
              "          const docLink = document.createElement('div');\n",
              "          docLink.innerHTML = docLinkHtml;\n",
              "          element.appendChild(docLink);\n",
              "        }\n",
              "      </script>\n",
              "    </div>\n",
              "  </div>\n",
              "  "
            ]
          },
          "metadata": {},
          "execution_count": 15
        }
      ]
    },
    {
      "cell_type": "markdown",
      "source": [
        "**Cette commande renomme les colonnes d'un DataFrame db en utilisant un dictionnaire Python pour mapper les anciens noms de colonnes aux nouveaux noms.**\n",
        "\n",
        "**Dans ce cas, les colonnes \"show_id\" et \"date_added\" ont été renommées en \"Show_Id\" et \"Date_Added\". La commande utilise la méthode rename() de pandas pour renommer les colonnes et assigne le résultat à db.**\n",
        "\n",
        "**Cela peut être utile pour mettre en conformité les noms de colonnes avec un schéma de nommage standardisé ou pour faciliter l'accès aux données en utilisant des noms de colonnes plus explicites.**"
      ],
      "metadata": {
        "id": "eaF1-GJR60d9"
      }
    },
    {
      "cell_type": "markdown",
      "source": [
        "# duplicated()"
      ],
      "metadata": {
        "id": "PuRmMnkM69uq"
      }
    },
    {
      "cell_type": "code",
      "source": [
        "db.duplicated()"
      ],
      "metadata": {
        "colab": {
          "base_uri": "https://localhost:8080/"
        },
        "id": "y99648ykDQrJ",
        "outputId": "eb155ab9-84cd-4b12-d237-5f2d2b7c388b"
      },
      "execution_count": null,
      "outputs": [
        {
          "output_type": "execute_result",
          "data": {
            "text/plain": [
              "0       False\n",
              "1       False\n",
              "2       False\n",
              "3       False\n",
              "4       False\n",
              "        ...  \n",
              "8802    False\n",
              "8803    False\n",
              "8804    False\n",
              "8805    False\n",
              "8806    False\n",
              "Length: 8807, dtype: bool"
            ]
          },
          "metadata": {},
          "execution_count": 37
        }
      ]
    },
    {
      "cell_type": "markdown",
      "source": [
        "**La commande db.duplicated() renvoie un masque booléen qui indique pour chaque ligne du DataFrame db si elle est une duplication d'une ligne précédente ou non.**\n",
        "\n",
        "**Si la valeur d'une ligne est True, cela signifie que cette ligne est une duplication d'une ligne précédente. Si elle est False, cela signifie qu'elle est unique et n'a pas de duplication.**\n",
        "\n",
        "**Cette commande est utile pour détecter les duplications dans un DataFrame. Vous pouvez ensuite utiliser la méthode drop_duplicates() de pandas pour supprimer les lignes dupliquées et garder uniquement les uniques.**"
      ],
      "metadata": {
        "id": "etBfcEm86_fg"
      }
    },
    {
      "cell_type": "code",
      "source": [
        "db[db.duplicated()] #pour affichier les duplicated"
      ],
      "metadata": {
        "colab": {
          "base_uri": "https://localhost:8080/",
          "height": 49
        },
        "id": "4FxyxkJ07nuU",
        "outputId": "3ba4bf33-c3cf-426a-986b-2d96e2f2148e"
      },
      "execution_count": null,
      "outputs": [
        {
          "output_type": "execute_result",
          "data": {
            "text/plain": [
              "Empty DataFrame\n",
              "Columns: [show_id, type, title, director, cast, country, date_added, release_year, rating, duration, listed_in, description]\n",
              "Index: []"
            ],
            "text/html": [
              "\n",
              "  <div id=\"df-5d092e11-8b3e-4690-8bfc-8cbf6cbe62bc\">\n",
              "    <div class=\"colab-df-container\">\n",
              "      <div>\n",
              "<style scoped>\n",
              "    .dataframe tbody tr th:only-of-type {\n",
              "        vertical-align: middle;\n",
              "    }\n",
              "\n",
              "    .dataframe tbody tr th {\n",
              "        vertical-align: top;\n",
              "    }\n",
              "\n",
              "    .dataframe thead th {\n",
              "        text-align: right;\n",
              "    }\n",
              "</style>\n",
              "<table border=\"1\" class=\"dataframe\">\n",
              "  <thead>\n",
              "    <tr style=\"text-align: right;\">\n",
              "      <th></th>\n",
              "      <th>show_id</th>\n",
              "      <th>type</th>\n",
              "      <th>title</th>\n",
              "      <th>director</th>\n",
              "      <th>cast</th>\n",
              "      <th>country</th>\n",
              "      <th>date_added</th>\n",
              "      <th>release_year</th>\n",
              "      <th>rating</th>\n",
              "      <th>duration</th>\n",
              "      <th>listed_in</th>\n",
              "      <th>description</th>\n",
              "    </tr>\n",
              "  </thead>\n",
              "  <tbody>\n",
              "  </tbody>\n",
              "</table>\n",
              "</div>\n",
              "      <button class=\"colab-df-convert\" onclick=\"convertToInteractive('df-5d092e11-8b3e-4690-8bfc-8cbf6cbe62bc')\"\n",
              "              title=\"Convert this dataframe to an interactive table.\"\n",
              "              style=\"display:none;\">\n",
              "        \n",
              "  <svg xmlns=\"http://www.w3.org/2000/svg\" height=\"24px\"viewBox=\"0 0 24 24\"\n",
              "       width=\"24px\">\n",
              "    <path d=\"M0 0h24v24H0V0z\" fill=\"none\"/>\n",
              "    <path d=\"M18.56 5.44l.94 2.06.94-2.06 2.06-.94-2.06-.94-.94-2.06-.94 2.06-2.06.94zm-11 1L8.5 8.5l.94-2.06 2.06-.94-2.06-.94L8.5 2.5l-.94 2.06-2.06.94zm10 10l.94 2.06.94-2.06 2.06-.94-2.06-.94-.94-2.06-.94 2.06-2.06.94z\"/><path d=\"M17.41 7.96l-1.37-1.37c-.4-.4-.92-.59-1.43-.59-.52 0-1.04.2-1.43.59L10.3 9.45l-7.72 7.72c-.78.78-.78 2.05 0 2.83L4 21.41c.39.39.9.59 1.41.59.51 0 1.02-.2 1.41-.59l7.78-7.78 2.81-2.81c.8-.78.8-2.07 0-2.86zM5.41 20L4 18.59l7.72-7.72 1.47 1.35L5.41 20z\"/>\n",
              "  </svg>\n",
              "      </button>\n",
              "      \n",
              "  <style>\n",
              "    .colab-df-container {\n",
              "      display:flex;\n",
              "      flex-wrap:wrap;\n",
              "      gap: 12px;\n",
              "    }\n",
              "\n",
              "    .colab-df-convert {\n",
              "      background-color: #E8F0FE;\n",
              "      border: none;\n",
              "      border-radius: 50%;\n",
              "      cursor: pointer;\n",
              "      display: none;\n",
              "      fill: #1967D2;\n",
              "      height: 32px;\n",
              "      padding: 0 0 0 0;\n",
              "      width: 32px;\n",
              "    }\n",
              "\n",
              "    .colab-df-convert:hover {\n",
              "      background-color: #E2EBFA;\n",
              "      box-shadow: 0px 1px 2px rgba(60, 64, 67, 0.3), 0px 1px 3px 1px rgba(60, 64, 67, 0.15);\n",
              "      fill: #174EA6;\n",
              "    }\n",
              "\n",
              "    [theme=dark] .colab-df-convert {\n",
              "      background-color: #3B4455;\n",
              "      fill: #D2E3FC;\n",
              "    }\n",
              "\n",
              "    [theme=dark] .colab-df-convert:hover {\n",
              "      background-color: #434B5C;\n",
              "      box-shadow: 0px 1px 3px 1px rgba(0, 0, 0, 0.15);\n",
              "      filter: drop-shadow(0px 1px 2px rgba(0, 0, 0, 0.3));\n",
              "      fill: #FFFFFF;\n",
              "    }\n",
              "  </style>\n",
              "\n",
              "      <script>\n",
              "        const buttonEl =\n",
              "          document.querySelector('#df-5d092e11-8b3e-4690-8bfc-8cbf6cbe62bc button.colab-df-convert');\n",
              "        buttonEl.style.display =\n",
              "          google.colab.kernel.accessAllowed ? 'block' : 'none';\n",
              "\n",
              "        async function convertToInteractive(key) {\n",
              "          const element = document.querySelector('#df-5d092e11-8b3e-4690-8bfc-8cbf6cbe62bc');\n",
              "          const dataTable =\n",
              "            await google.colab.kernel.invokeFunction('convertToInteractive',\n",
              "                                                     [key], {});\n",
              "          if (!dataTable) return;\n",
              "\n",
              "          const docLinkHtml = 'Like what you see? Visit the ' +\n",
              "            '<a target=\"_blank\" href=https://colab.research.google.com/notebooks/data_table.ipynb>data table notebook</a>'\n",
              "            + ' to learn more about interactive tables.';\n",
              "          element.innerHTML = '';\n",
              "          dataTable['output_type'] = 'display_data';\n",
              "          await google.colab.output.renderOutput(dataTable, element);\n",
              "          const docLink = document.createElement('div');\n",
              "          docLink.innerHTML = docLinkHtml;\n",
              "          element.appendChild(docLink);\n",
              "        }\n",
              "      </script>\n",
              "    </div>\n",
              "  </div>\n",
              "  "
            ]
          },
          "metadata": {},
          "execution_count": 8
        }
      ]
    },
    {
      "cell_type": "code",
      "source": [
        "db.duplicated(subset=['title'])# pour voir les duplicat dant la column title"
      ],
      "metadata": {
        "colab": {
          "base_uri": "https://localhost:8080/"
        },
        "id": "H4a3xRobK027",
        "outputId": "feef8126-1ee0-4d87-aced-ec4eb45c911b"
      },
      "execution_count": null,
      "outputs": [
        {
          "output_type": "execute_result",
          "data": {
            "text/plain": [
              "0       False\n",
              "1       False\n",
              "2       False\n",
              "3       False\n",
              "4       False\n",
              "        ...  \n",
              "8802    False\n",
              "8803    False\n",
              "8804    False\n",
              "8805    False\n",
              "8806    False\n",
              "Length: 8807, dtype: bool"
            ]
          },
          "metadata": {},
          "execution_count": 69
        }
      ]
    },
    {
      "cell_type": "markdown",
      "source": [
        "**La commande db[db.duplicated(subset=['title'])] renvoie un sous-ensemble du DataFrame db qui contient uniquement les lignes dupliquées basées sur la colonne \"title\".**\n",
        "\n",
        "**La méthode duplicated() de pandas renvoie un masque booléen qui indique pour chaque ligne si elle est une duplication d'une ligne précédente ou non, basée sur les colonnes spécifiées dans le paramètre subset. Dans ce cas, subset=['title'] signifie que la méthode duplicated() examine uniquement la colonne \"title\" pour détecter les duplications.**\n",
        "\n",
        "**La commande db[db.duplicated(subset=['title'])] applique le masque booléen retourné par la méthode duplicated() sur le DataFrame db en utilisant une indexation booléenne pour renvoyer uniquement les lignes dupliquées. Cela peut être utile pour identifier les duplications dans une colonne spécifique d'un DataFrame.**"
      ],
      "metadata": {
        "id": "q5RmJtA77xA4"
      }
    },
    {
      "cell_type": "code",
      "source": [
        "db[db.duplicated(subset=['title'])] # to show the rsu"
      ],
      "metadata": {
        "colab": {
          "base_uri": "https://localhost:8080/",
          "height": 49
        },
        "id": "X0N0Yciu7uZe",
        "outputId": "50b2825c-fb65-4c8a-cb68-5a320977a99d"
      },
      "execution_count": null,
      "outputs": [
        {
          "output_type": "execute_result",
          "data": {
            "text/plain": [
              "Empty DataFrame\n",
              "Columns: [show_id, type, title, director, cast, country, Date_Added , release_year, rating, duration, listed_in, description]\n",
              "Index: []"
            ],
            "text/html": [
              "\n",
              "  <div id=\"df-2d21cd02-b64b-4f42-a782-8774fd50b821\">\n",
              "    <div class=\"colab-df-container\">\n",
              "      <div>\n",
              "<style scoped>\n",
              "    .dataframe tbody tr th:only-of-type {\n",
              "        vertical-align: middle;\n",
              "    }\n",
              "\n",
              "    .dataframe tbody tr th {\n",
              "        vertical-align: top;\n",
              "    }\n",
              "\n",
              "    .dataframe thead th {\n",
              "        text-align: right;\n",
              "    }\n",
              "</style>\n",
              "<table border=\"1\" class=\"dataframe\">\n",
              "  <thead>\n",
              "    <tr style=\"text-align: right;\">\n",
              "      <th></th>\n",
              "      <th>show_id</th>\n",
              "      <th>type</th>\n",
              "      <th>title</th>\n",
              "      <th>director</th>\n",
              "      <th>cast</th>\n",
              "      <th>country</th>\n",
              "      <th>Date_Added</th>\n",
              "      <th>release_year</th>\n",
              "      <th>rating</th>\n",
              "      <th>duration</th>\n",
              "      <th>listed_in</th>\n",
              "      <th>description</th>\n",
              "    </tr>\n",
              "  </thead>\n",
              "  <tbody>\n",
              "  </tbody>\n",
              "</table>\n",
              "</div>\n",
              "      <button class=\"colab-df-convert\" onclick=\"convertToInteractive('df-2d21cd02-b64b-4f42-a782-8774fd50b821')\"\n",
              "              title=\"Convert this dataframe to an interactive table.\"\n",
              "              style=\"display:none;\">\n",
              "        \n",
              "  <svg xmlns=\"http://www.w3.org/2000/svg\" height=\"24px\"viewBox=\"0 0 24 24\"\n",
              "       width=\"24px\">\n",
              "    <path d=\"M0 0h24v24H0V0z\" fill=\"none\"/>\n",
              "    <path d=\"M18.56 5.44l.94 2.06.94-2.06 2.06-.94-2.06-.94-.94-2.06-.94 2.06-2.06.94zm-11 1L8.5 8.5l.94-2.06 2.06-.94-2.06-.94L8.5 2.5l-.94 2.06-2.06.94zm10 10l.94 2.06.94-2.06 2.06-.94-2.06-.94-.94-2.06-.94 2.06-2.06.94z\"/><path d=\"M17.41 7.96l-1.37-1.37c-.4-.4-.92-.59-1.43-.59-.52 0-1.04.2-1.43.59L10.3 9.45l-7.72 7.72c-.78.78-.78 2.05 0 2.83L4 21.41c.39.39.9.59 1.41.59.51 0 1.02-.2 1.41-.59l7.78-7.78 2.81-2.81c.8-.78.8-2.07 0-2.86zM5.41 20L4 18.59l7.72-7.72 1.47 1.35L5.41 20z\"/>\n",
              "  </svg>\n",
              "      </button>\n",
              "      \n",
              "  <style>\n",
              "    .colab-df-container {\n",
              "      display:flex;\n",
              "      flex-wrap:wrap;\n",
              "      gap: 12px;\n",
              "    }\n",
              "\n",
              "    .colab-df-convert {\n",
              "      background-color: #E8F0FE;\n",
              "      border: none;\n",
              "      border-radius: 50%;\n",
              "      cursor: pointer;\n",
              "      display: none;\n",
              "      fill: #1967D2;\n",
              "      height: 32px;\n",
              "      padding: 0 0 0 0;\n",
              "      width: 32px;\n",
              "    }\n",
              "\n",
              "    .colab-df-convert:hover {\n",
              "      background-color: #E2EBFA;\n",
              "      box-shadow: 0px 1px 2px rgba(60, 64, 67, 0.3), 0px 1px 3px 1px rgba(60, 64, 67, 0.15);\n",
              "      fill: #174EA6;\n",
              "    }\n",
              "\n",
              "    [theme=dark] .colab-df-convert {\n",
              "      background-color: #3B4455;\n",
              "      fill: #D2E3FC;\n",
              "    }\n",
              "\n",
              "    [theme=dark] .colab-df-convert:hover {\n",
              "      background-color: #434B5C;\n",
              "      box-shadow: 0px 1px 3px 1px rgba(0, 0, 0, 0.15);\n",
              "      filter: drop-shadow(0px 1px 2px rgba(0, 0, 0, 0.3));\n",
              "      fill: #FFFFFF;\n",
              "    }\n",
              "  </style>\n",
              "\n",
              "      <script>\n",
              "        const buttonEl =\n",
              "          document.querySelector('#df-2d21cd02-b64b-4f42-a782-8774fd50b821 button.colab-df-convert');\n",
              "        buttonEl.style.display =\n",
              "          google.colab.kernel.accessAllowed ? 'block' : 'none';\n",
              "\n",
              "        async function convertToInteractive(key) {\n",
              "          const element = document.querySelector('#df-2d21cd02-b64b-4f42-a782-8774fd50b821');\n",
              "          const dataTable =\n",
              "            await google.colab.kernel.invokeFunction('convertToInteractive',\n",
              "                                                     [key], {});\n",
              "          if (!dataTable) return;\n",
              "\n",
              "          const docLinkHtml = 'Like what you see? Visit the ' +\n",
              "            '<a target=\"_blank\" href=https://colab.research.google.com/notebooks/data_table.ipynb>data table notebook</a>'\n",
              "            + ' to learn more about interactive tables.';\n",
              "          element.innerHTML = '';\n",
              "          dataTable['output_type'] = 'display_data';\n",
              "          await google.colab.output.renderOutput(dataTable, element);\n",
              "          const docLink = document.createElement('div');\n",
              "          docLink.innerHTML = docLinkHtml;\n",
              "          element.appendChild(docLink);\n",
              "        }\n",
              "      </script>\n",
              "    </div>\n",
              "  </div>\n",
              "  "
            ]
          },
          "metadata": {},
          "execution_count": 68
        }
      ]
    },
    {
      "cell_type": "markdown",
      "source": [
        "# Le code suivant convertit la colonne \"release_year\" d'une DataFrame en type numérique :"
      ],
      "metadata": {
        "id": "QRRyE8fRFhfR"
      }
    },
    {
      "cell_type": "code",
      "source": [
        "db['release_year']=pd.to_numeric(db['release_year'])\n",
        "db.head(2)"
      ],
      "metadata": {
        "colab": {
          "base_uri": "https://localhost:8080/",
          "height": 226
        },
        "id": "ptCHvCw1HJUi",
        "outputId": "0b36208a-4068-4666-841b-4b3fb7f446ca"
      },
      "execution_count": null,
      "outputs": [
        {
          "output_type": "execute_result",
          "data": {
            "text/plain": [
              "  show_id     type                 title         director  \\\n",
              "0      s1    Movie  Dick Johnson Is Dead  Kirsten Johnson   \n",
              "1      s2  TV Show         Blood & Water              NaN   \n",
              "\n",
              "                                                cast        country  \\\n",
              "0                                                NaN  United States   \n",
              "1  Ama Qamata, Khosi Ngema, Gail Mabalane, Thaban...   South Africa   \n",
              "\n",
              "          Date_Added   release_year rating   duration  \\\n",
              "0  September 25, 2021          2020  PG-13     90 min   \n",
              "1  September 24, 2021          2021  TV-MA  2 Seasons   \n",
              "\n",
              "                                         listed_in  \\\n",
              "0                                    Documentaries   \n",
              "1  International TV Shows, TV Dramas, TV Mysteries   \n",
              "\n",
              "                                         description  \n",
              "0  As her father nears the end of his life, filmm...  \n",
              "1  After crossing paths at a party, a Cape Town t...  "
            ],
            "text/html": [
              "\n",
              "  <div id=\"df-9b5f3cc3-8986-46a8-a03a-4fbc1dcfaa47\">\n",
              "    <div class=\"colab-df-container\">\n",
              "      <div>\n",
              "<style scoped>\n",
              "    .dataframe tbody tr th:only-of-type {\n",
              "        vertical-align: middle;\n",
              "    }\n",
              "\n",
              "    .dataframe tbody tr th {\n",
              "        vertical-align: top;\n",
              "    }\n",
              "\n",
              "    .dataframe thead th {\n",
              "        text-align: right;\n",
              "    }\n",
              "</style>\n",
              "<table border=\"1\" class=\"dataframe\">\n",
              "  <thead>\n",
              "    <tr style=\"text-align: right;\">\n",
              "      <th></th>\n",
              "      <th>show_id</th>\n",
              "      <th>type</th>\n",
              "      <th>title</th>\n",
              "      <th>director</th>\n",
              "      <th>cast</th>\n",
              "      <th>country</th>\n",
              "      <th>Date_Added</th>\n",
              "      <th>release_year</th>\n",
              "      <th>rating</th>\n",
              "      <th>duration</th>\n",
              "      <th>listed_in</th>\n",
              "      <th>description</th>\n",
              "    </tr>\n",
              "  </thead>\n",
              "  <tbody>\n",
              "    <tr>\n",
              "      <th>0</th>\n",
              "      <td>s1</td>\n",
              "      <td>Movie</td>\n",
              "      <td>Dick Johnson Is Dead</td>\n",
              "      <td>Kirsten Johnson</td>\n",
              "      <td>NaN</td>\n",
              "      <td>United States</td>\n",
              "      <td>September 25, 2021</td>\n",
              "      <td>2020</td>\n",
              "      <td>PG-13</td>\n",
              "      <td>90 min</td>\n",
              "      <td>Documentaries</td>\n",
              "      <td>As her father nears the end of his life, filmm...</td>\n",
              "    </tr>\n",
              "    <tr>\n",
              "      <th>1</th>\n",
              "      <td>s2</td>\n",
              "      <td>TV Show</td>\n",
              "      <td>Blood &amp; Water</td>\n",
              "      <td>NaN</td>\n",
              "      <td>Ama Qamata, Khosi Ngema, Gail Mabalane, Thaban...</td>\n",
              "      <td>South Africa</td>\n",
              "      <td>September 24, 2021</td>\n",
              "      <td>2021</td>\n",
              "      <td>TV-MA</td>\n",
              "      <td>2 Seasons</td>\n",
              "      <td>International TV Shows, TV Dramas, TV Mysteries</td>\n",
              "      <td>After crossing paths at a party, a Cape Town t...</td>\n",
              "    </tr>\n",
              "  </tbody>\n",
              "</table>\n",
              "</div>\n",
              "      <button class=\"colab-df-convert\" onclick=\"convertToInteractive('df-9b5f3cc3-8986-46a8-a03a-4fbc1dcfaa47')\"\n",
              "              title=\"Convert this dataframe to an interactive table.\"\n",
              "              style=\"display:none;\">\n",
              "        \n",
              "  <svg xmlns=\"http://www.w3.org/2000/svg\" height=\"24px\"viewBox=\"0 0 24 24\"\n",
              "       width=\"24px\">\n",
              "    <path d=\"M0 0h24v24H0V0z\" fill=\"none\"/>\n",
              "    <path d=\"M18.56 5.44l.94 2.06.94-2.06 2.06-.94-2.06-.94-.94-2.06-.94 2.06-2.06.94zm-11 1L8.5 8.5l.94-2.06 2.06-.94-2.06-.94L8.5 2.5l-.94 2.06-2.06.94zm10 10l.94 2.06.94-2.06 2.06-.94-2.06-.94-.94-2.06-.94 2.06-2.06.94z\"/><path d=\"M17.41 7.96l-1.37-1.37c-.4-.4-.92-.59-1.43-.59-.52 0-1.04.2-1.43.59L10.3 9.45l-7.72 7.72c-.78.78-.78 2.05 0 2.83L4 21.41c.39.39.9.59 1.41.59.51 0 1.02-.2 1.41-.59l7.78-7.78 2.81-2.81c.8-.78.8-2.07 0-2.86zM5.41 20L4 18.59l7.72-7.72 1.47 1.35L5.41 20z\"/>\n",
              "  </svg>\n",
              "      </button>\n",
              "      \n",
              "  <style>\n",
              "    .colab-df-container {\n",
              "      display:flex;\n",
              "      flex-wrap:wrap;\n",
              "      gap: 12px;\n",
              "    }\n",
              "\n",
              "    .colab-df-convert {\n",
              "      background-color: #E8F0FE;\n",
              "      border: none;\n",
              "      border-radius: 50%;\n",
              "      cursor: pointer;\n",
              "      display: none;\n",
              "      fill: #1967D2;\n",
              "      height: 32px;\n",
              "      padding: 0 0 0 0;\n",
              "      width: 32px;\n",
              "    }\n",
              "\n",
              "    .colab-df-convert:hover {\n",
              "      background-color: #E2EBFA;\n",
              "      box-shadow: 0px 1px 2px rgba(60, 64, 67, 0.3), 0px 1px 3px 1px rgba(60, 64, 67, 0.15);\n",
              "      fill: #174EA6;\n",
              "    }\n",
              "\n",
              "    [theme=dark] .colab-df-convert {\n",
              "      background-color: #3B4455;\n",
              "      fill: #D2E3FC;\n",
              "    }\n",
              "\n",
              "    [theme=dark] .colab-df-convert:hover {\n",
              "      background-color: #434B5C;\n",
              "      box-shadow: 0px 1px 3px 1px rgba(0, 0, 0, 0.15);\n",
              "      filter: drop-shadow(0px 1px 2px rgba(0, 0, 0, 0.3));\n",
              "      fill: #FFFFFF;\n",
              "    }\n",
              "  </style>\n",
              "\n",
              "      <script>\n",
              "        const buttonEl =\n",
              "          document.querySelector('#df-9b5f3cc3-8986-46a8-a03a-4fbc1dcfaa47 button.colab-df-convert');\n",
              "        buttonEl.style.display =\n",
              "          google.colab.kernel.accessAllowed ? 'block' : 'none';\n",
              "\n",
              "        async function convertToInteractive(key) {\n",
              "          const element = document.querySelector('#df-9b5f3cc3-8986-46a8-a03a-4fbc1dcfaa47');\n",
              "          const dataTable =\n",
              "            await google.colab.kernel.invokeFunction('convertToInteractive',\n",
              "                                                     [key], {});\n",
              "          if (!dataTable) return;\n",
              "\n",
              "          const docLinkHtml = 'Like what you see? Visit the ' +\n",
              "            '<a target=\"_blank\" href=https://colab.research.google.com/notebooks/data_table.ipynb>data table notebook</a>'\n",
              "            + ' to learn more about interactive tables.';\n",
              "          element.innerHTML = '';\n",
              "          dataTable['output_type'] = 'display_data';\n",
              "          await google.colab.output.renderOutput(dataTable, element);\n",
              "          const docLink = document.createElement('div');\n",
              "          docLink.innerHTML = docLinkHtml;\n",
              "          element.appendChild(docLink);\n",
              "        }\n",
              "      </script>\n",
              "    </div>\n",
              "  </div>\n",
              "  "
            ]
          },
          "metadata": {},
          "execution_count": 78
        }
      ]
    },
    {
      "cell_type": "markdown",
      "source": [
        "**La commande db['release_year']=pd.to_numeric(db['release_year']) convertit la colonne \"release_year\" du DataFrame db en type numérique en utilisant la méthode pd.to_numeric() de pandas.**\n",
        "\n",
        "**La méthode to_numeric() convertit les valeurs d'une série pandas en valeurs numériques. Dans ce cas, elle est appliquée à la colonne \"release_year\" du DataFrame db. Cela permet de s'assurer que la colonne \"release_year\" ne contient que des valeurs numériques, ce qui peut faciliter l'analyse de cette colonne.**\n",
        "\n",
        "**La commande db.head(2) affiche les deux premières lignes du DataFrame db avec la colonne \"release_year\" convertie en valeurs numériques. Cela permet de vérifier si la conversion a été effectuée correctement.**"
      ],
      "metadata": {
        "id": "jPLjPB118asE"
      }
    },
    {
      "cell_type": "markdown",
      "source": [
        "# .plot()"
      ],
      "metadata": {
        "id": "Jvr72Vog8mGT"
      }
    },
    {
      "cell_type": "code",
      "source": [
        "db['release_year'].value_counts().plot(kind='bar',title='release_year')"
      ],
      "metadata": {
        "colab": {
          "base_uri": "https://localhost:8080/",
          "height": 492
        },
        "id": "Njt3WFOS-XPh",
        "outputId": "7a1074eb-aaf7-4c03-8fa3-a672dd936d7c"
      },
      "execution_count": null,
      "outputs": [
        {
          "output_type": "execute_result",
          "data": {
            "text/plain": [
              "<Axes: title={'center': 'release_year'}>"
            ]
          },
          "metadata": {},
          "execution_count": 143
        },
        {
          "output_type": "display_data",
          "data": {
            "text/plain": [
              "<Figure size 640x480 with 1 Axes>"
            ],
            "image/png": "[encoded data removed]"
          },
          "metadata": {}
        }
      ]
    },
    {
      "cell_type": "markdown",
      "source": [
        "\n",
        "**La commande db['release_year'].value_counts().plot(kind='bar', title='release_year') crée un graphique en barres des valeurs uniques et de leur fréquence dans la colonne \"release_year\" du DataFrame db.**\n",
        "\n",
        "**La méthode value_counts() de pandas calcule la fréquence des valeurs uniques dans une série pandas. Dans ce cas, elle est appliquée à la colonne \"release_year\" pour obtenir le nombre de fois que chaque année de sortie de film ou de série apparaît dans la colonne.**\n",
        "\n",
        "**La méthode plot() de pandas peut être utilisée pour créer un graphique à partir d'une série pandas. Dans ce cas, la méthode plot() est utilisée pour créer un graphique en barres (kind='bar') des valeurs uniques et de leur fréquence, avec un titre spécifié (title='release_year'). Cela peut être utile pour visualiser la distribution des valeurs dans une colonne et pour détecter les années de sortie les plus fréquentes.**"
      ],
      "metadata": {
        "id": "vRXTRArm-PEZ"
      }
    },
    {
      "cell_type": "markdown",
      "source": [
        "# Le code suivant groupe les entrées d'une DataFrame Netflix par le type et compte le nombre de fois que chaque type apparaît :"
      ],
      "metadata": {
        "id": "CFJWCOIdMssj"
      }
    },
    {
      "cell_type": "code",
      "source": [
        "db.groupby('type').type.count()"
      ],
      "metadata": {
        "colab": {
          "base_uri": "https://localhost:8080/"
        },
        "id": "ZJiNE3_UM2qd",
        "outputId": "e834ff1f-83b2-4463-9d28-d7703d723ca3"
      },
      "execution_count": null,
      "outputs": [
        {
          "output_type": "execute_result",
          "data": {
            "text/plain": [
              "type\n",
              "Movie      6131\n",
              "TV Show    2676\n",
              "Name: type, dtype: int64"
            ]
          },
          "metadata": {},
          "execution_count": 95
        }
      ]
    },
    {
      "cell_type": "markdown",
      "source": [
        "**La commande db.groupby('type').type.count() regroupe le DataFrame db par la colonne \"type\" en utilisant la méthode groupby() de pandas. Elle compte ensuite le nombre d'occurrences de chaque type de programme (\"Movie\" ou \"TV Show\") en utilisant la méthode count().**\n",
        "\n",
        "**Plus précisément, la méthode groupby() divise le DataFrame db en groupes basés sur les valeurs uniques dans la colonne \"type\". Ensuite, la méthode count() est appliquée à chaque groupe pour calculer le nombre d'occurrences de chaque type de programme.**\n",
        "\n",
        "**La commande renvoie un objet Series pandas avec le nombre d'occurrences de chaque type de programme en tant qu'index et les nombres correspondants en tant que valeurs. Cette commande peut être utile pour obtenir une vue d'ensemble de la répartition des programmes dans le DataFrame db en fonction de leur type.**"
      ],
      "metadata": {
        "id": "umdnlsVf-l3A"
      }
    },
    {
      "cell_type": "code",
      "source": [
        "ax=db.groupby('type').type.count().plot(kind='bar',title='type')\n",
        "ax.set_ylabel('number')"
      ],
      "metadata": {
        "colab": {
          "base_uri": "https://localhost:8080/",
          "height": 539
        },
        "id": "46MIfU_gNeaj",
        "outputId": "69ea814a-9b69-49a6-c885-028ba0c39b46"
      },
      "execution_count": null,
      "outputs": [
        {
          "output_type": "execute_result",
          "data": {
            "text/plain": [
              "Text(0, 0.5, 'number')"
            ]
          },
          "metadata": {},
          "execution_count": 89
        },
        {
          "output_type": "display_data",
          "data": {
            "text/plain": [
              "<Figure size 640x480 with 1 Axes>"
            ],
            "image/png": "[encoded data removed]"
          },
          "metadata": {}
        }
      ]
    },
    {
      "cell_type": "markdown",
      "source": [
        "# **Top 5 des meilleures catégories.**"
      ],
      "metadata": {
        "id": "xm631-vSymNa"
      }
    },
    {
      "cell_type": "code",
      "source": [
        "# Filter out rows without category information\n",
        "data_with_categories = db.dropna(subset=['type'])\n",
        "\n",
        "# Count the categories\n",
        "category_counts = data_with_categories.groupby('type').count()\n",
        "\n",
        "# Sort the categories by count in descending order\n",
        "sorted_categories = category_counts.sort_values(by=['show_id'])\n",
        "\n",
        "# Get the top 5 categories\n",
        "top_5_categories = sorted_categories.head(5)\n",
        "\n",
        "# Create a bar plot of the top 5 categories\n",
        "plt.bar(top_5_categories.index, top_5_categories['show_id'])\n",
        "plt.xlabel('Category')\n",
        "plt.ylabel('Number of Shows')\n",
        "plt.title('Top 5 Categories on Netflix')\n",
        "plt.show()"
      ],
      "metadata": {
        "colab": {
          "base_uri": "https://localhost:8080/",
          "height": 477
        },
        "id": "38zI-rX2OTjm",
        "outputId": "5642f68a-b8c4-4c2e-a257-84f3c218daec"
      },
      "execution_count": null,
      "outputs": [
        {
          "output_type": "display_data",
          "data": {
            "text/plain": [
              "<Figure size 640x480 with 1 Axes>"
            ],
            "image/png": "[encoded data removed]"
          },
          "metadata": {}
        }
      ]
    },
    {
      "cell_type": "markdown",
      "source": [
        "\n",
        "**Ce code effectue une analyse des catégories de programmes (\"Movie\" ou \"TV Show\") dans le DataFrame db.**\n",
        "\n",
        "**Tout d'abord, la commande data_with_categories = db.dropna(subset=['type']) filtre les lignes du DataFrame db pour supprimer celles qui n'ont pas d'information de catégorie. En d'autres termes, seules les lignes avec une valeur de la colonne \"type\" sont conservées.**\n",
        "\n",
        "**Ensuite, la commande category_counts = data_with_categories.groupby('type').count() groupe le DataFrame data_with_categories par la colonne \"type\" et compte le nombre de lignes dans chaque groupe.**\n",
        "\n",
        "**La commande sorted_categories = category_counts.sort_values(by=['show_id']) trie les catégories par ordre décroissant du nombre de programmes, en utilisant la colonne \"show_id\".**\n",
        "\n",
        "**La commande top_5_categories = sorted_categories.head(5) sélectionne les cinq premières catégories triées.**\n",
        "\n",
        "**Enfin, la commande plt.bar(top_5_categories.index, top_5_categories['show_id']) crée un graphique en barres des cinq premières catégories et de leur nombre de programmes correspondant. Les étiquettes des axes x et y sont spécifiées à l'aide des commandes plt.xlabel() et plt.ylabel(), respectivement. Le titre du graphique est spécifié à l'aide de la commande plt.title(). Enfin, la commande plt.show() affiche le graphique.**"
      ],
      "metadata": {
        "id": "a5TyW59z-__g"
      }
    },
    {
      "cell_type": "markdown",
      "source": [
        "# Top 5 des réalisateurs."
      ],
      "metadata": {
        "id": "EloJkFH0XGj6"
      }
    },
    {
      "cell_type": "code",
      "source": [
        "db['director'].value_counts().head(5)"
      ],
      "metadata": {
        "colab": {
          "base_uri": "https://localhost:8080/"
        },
        "id": "GjcJ6Q_kV407",
        "outputId": "3b9e7007-62a8-4865-901f-eda928901c1a"
      },
      "execution_count": null,
      "outputs": [
        {
          "output_type": "execute_result",
          "data": {
            "text/plain": [
              "Rajiv Chilaka             19\n",
              "Raúl Campos, Jan Suter    18\n",
              "Marcus Raboy              16\n",
              "Suhas Kadav               16\n",
              "Jay Karas                 14\n",
              "Name: director, dtype: int64"
            ]
          },
          "metadata": {},
          "execution_count": 5
        }
      ]
    },
    {
      "cell_type": "markdown",
      "source": [
        "**La commande db['director'].value_counts().head(5) compte le nombre d'occurrences de chaque réalisateur dans la colonne \"director\" du DataFrame db à l'aide de la méthode value_counts() de pandas. Ensuite, elle sélectionne les cinq premiers réalisateurs ayant le plus grand nombre d'occurrences en utilisant la méthode head(5).**\n",
        "\n",
        "**Plus précisément, la méthode value_counts() renvoie un objet Series pandas contenant le nombre d'occurrences de chaque valeur unique dans la colonne \"director\". Ensuite, la méthode head(5) sélectionne les cinq premières valeurs de cette Series triées par ordre décroissant du nombre d'occurrences.**\n",
        "\n",
        "**En résumé, cette commande renvoie les cinq réalisateurs les plus fréquents dans la colonne \"director\" du DataFrame db.**"
      ],
      "metadata": {
        "id": "z4tyiTn0_frj"
      }
    },
    {
      "cell_type": "markdown",
      "source": [
        "# **Le code suivant extrait les 10 membres du casting les plus populaires**"
      ],
      "metadata": {
        "id": "_IVivMLdbCPZ"
      }
    },
    {
      "cell_type": "code",
      "source": [
        "top_10_cast=db['cast'].str.split(',', expand=True).stack().value_counts().head(10)\n",
        "top_10_cast"
      ],
      "metadata": {
        "colab": {
          "base_uri": "https://localhost:8080/"
        },
        "id": "FM5dNyuLX8P6",
        "outputId": "2c1ee5fd-b191-458f-adcd-2fd431ef135f"
      },
      "execution_count": null,
      "outputs": [
        {
          "output_type": "execute_result",
          "data": {
            "text/plain": [
              " Anupam Kher         39\n",
              " Rupa Bhimani        31\n",
              " Takahiro Sakurai    30\n",
              " Julie Tejwani       28\n",
              " Om Puri             27\n",
              " Rajesh Kava         26\n",
              "Shah Rukh Khan       26\n",
              " Yuki Kaji           25\n",
              " Paresh Rawal        25\n",
              " Andrea Libman       25\n",
              "dtype: int64"
            ]
          },
          "metadata": {},
          "execution_count": 123
        }
      ]
    },
    {
      "cell_type": "markdown",
      "source": [
        ". db['cast'] est une série qui contient toutes les informations de casting dans la base de données Netflix.\n",
        "\n",
        ". str.split(',', expand=True) sépare chaque entrée de casting en utilisant une virgule comme séparateur, et la méthode expand=True divise la série en colonnes pour chaque membre du casting.\n",
        "\n",
        ". stack() réorganise les colonnes en une série avec des index hiérarchiques.\n",
        "\n",
        ". value_counts() compte le nombre d'occurrences de chaque membre du casting.\n",
        "\n",
        ". head(10) sélectionne les 10 membres du casting les plus fréquemment cités dans la base de données Netflix."
      ],
      "metadata": {
        "id": "ULJz16eIwFy8"
      }
    },
    {
      "cell_type": "markdown",
      "source": [
        "# **Le code suivant utilise Pandas pour filtrer les films sortis en 2021**"
      ],
      "metadata": {
        "id": "dQf2vDbtvK9g"
      }
    },
    {
      "cell_type": "code",
      "source": [
        "movi_2021=db[(db['type'] =='Movie') & (db['release_year']==2021)]\n",
        "movi_2021.head()"
      ],
      "metadata": {
        "colab": {
          "base_uri": "https://localhost:8080/",
          "height": 441
        },
        "id": "u2vc8QPjmXyU",
        "outputId": "054693eb-93a9-4032-ea32-79293aa4246d"
      },
      "execution_count": null,
      "outputs": [
        {
          "output_type": "execute_result",
          "data": {
            "text/plain": [
              "   show_id   type                             title  \\\n",
              "6       s7  Movie  My Little Pony: A New Generation   \n",
              "9      s10  Movie                      The Starling   \n",
              "12     s13  Movie                      Je Suis Karl   \n",
              "13     s14  Movie  Confessions of an Invisible Girl   \n",
              "18     s19  Movie                         Intrusion   \n",
              "\n",
              "                         director  \\\n",
              "6   Robert Cullen, José Luis Ucha   \n",
              "9                  Theodore Melfi   \n",
              "12            Christian Schwochow   \n",
              "13                  Bruno Garotti   \n",
              "18                     Adam Salky   \n",
              "\n",
              "                                                 cast  \\\n",
              "6   Vanessa Hudgens, Kimiko Glenn, James Marsden, ...   \n",
              "9   Melissa McCarthy, Chris O'Dowd, Kevin Kline, T...   \n",
              "12  Luna Wedler, Jannis Niewöhner, Milan Peschel, ...   \n",
              "13  Klara Castanho, Lucca Picon, Júlia Gomes, Marc...   \n",
              "18  Freida Pinto, Logan Marshall-Green, Robert Joh...   \n",
              "\n",
              "                    country         Date_Added   release_year rating duration  \\\n",
              "6                       NaN  September 24, 2021          2021     PG   91 min   \n",
              "9             United States  September 24, 2021          2021  PG-13  104 min   \n",
              "12  Germany, Czech Republic  September 23, 2021          2021  TV-MA  127 min   \n",
              "13                      NaN  September 22, 2021          2021  TV-PG   91 min   \n",
              "18                      NaN  September 22, 2021          2021  TV-14   94 min   \n",
              "\n",
              "                             listed_in  \\\n",
              "6             Children & Family Movies   \n",
              "9                     Comedies, Dramas   \n",
              "12        Dramas, International Movies   \n",
              "13  Children & Family Movies, Comedies   \n",
              "18                           Thrillers   \n",
              "\n",
              "                                          description  \n",
              "6   Equestria's divided. But a bright-eyed hero be...  \n",
              "9   A woman adjusting to life after a loss contend...  \n",
              "12  After most of her family is murdered in a terr...  \n",
              "13  When the clever but socially-awkward Tetê join...  \n",
              "18  After a deadly home invasion at a couple’s new...  "
            ],
            "text/html": [
              "\n",
              "  <div id=\"df-c73f7e12-3af7-45ec-a6b1-9d4dcd92c3e8\">\n",
              "    <div class=\"colab-df-container\">\n",
              "      <div>\n",
              "<style scoped>\n",
              "    .dataframe tbody tr th:only-of-type {\n",
              "        vertical-align: middle;\n",
              "    }\n",
              "\n",
              "    .dataframe tbody tr th {\n",
              "        vertical-align: top;\n",
              "    }\n",
              "\n",
              "    .dataframe thead th {\n",
              "        text-align: right;\n",
              "    }\n",
              "</style>\n",
              "<table border=\"1\" class=\"dataframe\">\n",
              "  <thead>\n",
              "    <tr style=\"text-align: right;\">\n",
              "      <th></th>\n",
              "      <th>show_id</th>\n",
              "      <th>type</th>\n",
              "      <th>title</th>\n",
              "      <th>director</th>\n",
              "      <th>cast</th>\n",
              "      <th>country</th>\n",
              "      <th>Date_Added</th>\n",
              "      <th>release_year</th>\n",
              "      <th>rating</th>\n",
              "      <th>duration</th>\n",
              "      <th>listed_in</th>\n",
              "      <th>description</th>\n",
              "    </tr>\n",
              "  </thead>\n",
              "  <tbody>\n",
              "    <tr>\n",
              "      <th>6</th>\n",
              "      <td>s7</td>\n",
              "      <td>Movie</td>\n",
              "      <td>My Little Pony: A New Generation</td>\n",
              "      <td>Robert Cullen, José Luis Ucha</td>\n",
              "      <td>Vanessa Hudgens, Kimiko Glenn, James Marsden, ...</td>\n",
              "      <td>NaN</td>\n",
              "      <td>September 24, 2021</td>\n",
              "      <td>2021</td>\n",
              "      <td>PG</td>\n",
              "      <td>91 min</td>\n",
              "      <td>Children &amp; Family Movies</td>\n",
              "      <td>Equestria's divided. But a bright-eyed hero be...</td>\n",
              "    </tr>\n",
              "    <tr>\n",
              "      <th>9</th>\n",
              "      <td>s10</td>\n",
              "      <td>Movie</td>\n",
              "      <td>The Starling</td>\n",
              "      <td>Theodore Melfi</td>\n",
              "      <td>Melissa McCarthy, Chris O'Dowd, Kevin Kline, T...</td>\n",
              "      <td>United States</td>\n",
              "      <td>September 24, 2021</td>\n",
              "      <td>2021</td>\n",
              "      <td>PG-13</td>\n",
              "      <td>104 min</td>\n",
              "      <td>Comedies, Dramas</td>\n",
              "      <td>A woman adjusting to life after a loss contend...</td>\n",
              "    </tr>\n",
              "    <tr>\n",
              "      <th>12</th>\n",
              "      <td>s13</td>\n",
              "      <td>Movie</td>\n",
              "      <td>Je Suis Karl</td>\n",
              "      <td>Christian Schwochow</td>\n",
              "      <td>Luna Wedler, Jannis Niewöhner, Milan Peschel, ...</td>\n",
              "      <td>Germany, Czech Republic</td>\n",
              "      <td>September 23, 2021</td>\n",
              "      <td>2021</td>\n",
              "      <td>TV-MA</td>\n",
              "      <td>127 min</td>\n",
              "      <td>Dramas, International Movies</td>\n",
              "      <td>After most of her family is murdered in a terr...</td>\n",
              "    </tr>\n",
              "    <tr>\n",
              "      <th>13</th>\n",
              "      <td>s14</td>\n",
              "      <td>Movie</td>\n",
              "      <td>Confessions of an Invisible Girl</td>\n",
              "      <td>Bruno Garotti</td>\n",
              "      <td>Klara Castanho, Lucca Picon, Júlia Gomes, Marc...</td>\n",
              "      <td>NaN</td>\n",
              "      <td>September 22, 2021</td>\n",
              "      <td>2021</td>\n",
              "      <td>TV-PG</td>\n",
              "      <td>91 min</td>\n",
              "      <td>Children &amp; Family Movies, Comedies</td>\n",
              "      <td>When the clever but socially-awkward Tetê join...</td>\n",
              "    </tr>\n",
              "    <tr>\n",
              "      <th>18</th>\n",
              "      <td>s19</td>\n",
              "      <td>Movie</td>\n",
              "      <td>Intrusion</td>\n",
              "      <td>Adam Salky</td>\n",
              "      <td>Freida Pinto, Logan Marshall-Green, Robert Joh...</td>\n",
              "      <td>NaN</td>\n",
              "      <td>September 22, 2021</td>\n",
              "      <td>2021</td>\n",
              "      <td>TV-14</td>\n",
              "      <td>94 min</td>\n",
              "      <td>Thrillers</td>\n",
              "      <td>After a deadly home invasion at a couple’s new...</td>\n",
              "    </tr>\n",
              "  </tbody>\n",
              "</table>\n",
              "</div>\n",
              "      <button class=\"colab-df-convert\" onclick=\"convertToInteractive('df-c73f7e12-3af7-45ec-a6b1-9d4dcd92c3e8')\"\n",
              "              title=\"Convert this dataframe to an interactive table.\"\n",
              "              style=\"display:none;\">\n",
              "        \n",
              "  <svg xmlns=\"http://www.w3.org/2000/svg\" height=\"24px\"viewBox=\"0 0 24 24\"\n",
              "       width=\"24px\">\n",
              "    <path d=\"M0 0h24v24H0V0z\" fill=\"none\"/>\n",
              "    <path d=\"M18.56 5.44l.94 2.06.94-2.06 2.06-.94-2.06-.94-.94-2.06-.94 2.06-2.06.94zm-11 1L8.5 8.5l.94-2.06 2.06-.94-2.06-.94L8.5 2.5l-.94 2.06-2.06.94zm10 10l.94 2.06.94-2.06 2.06-.94-2.06-.94-.94-2.06-.94 2.06-2.06.94z\"/><path d=\"M17.41 7.96l-1.37-1.37c-.4-.4-.92-.59-1.43-.59-.52 0-1.04.2-1.43.59L10.3 9.45l-7.72 7.72c-.78.78-.78 2.05 0 2.83L4 21.41c.39.39.9.59 1.41.59.51 0 1.02-.2 1.41-.59l7.78-7.78 2.81-2.81c.8-.78.8-2.07 0-2.86zM5.41 20L4 18.59l7.72-7.72 1.47 1.35L5.41 20z\"/>\n",
              "  </svg>\n",
              "      </button>\n",
              "      \n",
              "  <style>\n",
              "    .colab-df-container {\n",
              "      display:flex;\n",
              "      flex-wrap:wrap;\n",
              "      gap: 12px;\n",
              "    }\n",
              "\n",
              "    .colab-df-convert {\n",
              "      background-color: #E8F0FE;\n",
              "      border: none;\n",
              "      border-radius: 50%;\n",
              "      cursor: pointer;\n",
              "      display: none;\n",
              "      fill: #1967D2;\n",
              "      height: 32px;\n",
              "      padding: 0 0 0 0;\n",
              "      width: 32px;\n",
              "    }\n",
              "\n",
              "    .colab-df-convert:hover {\n",
              "      background-color: #E2EBFA;\n",
              "      box-shadow: 0px 1px 2px rgba(60, 64, 67, 0.3), 0px 1px 3px 1px rgba(60, 64, 67, 0.15);\n",
              "      fill: #174EA6;\n",
              "    }\n",
              "\n",
              "    [theme=dark] .colab-df-convert {\n",
              "      background-color: #3B4455;\n",
              "      fill: #D2E3FC;\n",
              "    }\n",
              "\n",
              "    [theme=dark] .colab-df-convert:hover {\n",
              "      background-color: #434B5C;\n",
              "      box-shadow: 0px 1px 3px 1px rgba(0, 0, 0, 0.15);\n",
              "      filter: drop-shadow(0px 1px 2px rgba(0, 0, 0, 0.3));\n",
              "      fill: #FFFFFF;\n",
              "    }\n",
              "  </style>\n",
              "\n",
              "      <script>\n",
              "        const buttonEl =\n",
              "          document.querySelector('#df-c73f7e12-3af7-45ec-a6b1-9d4dcd92c3e8 button.colab-df-convert');\n",
              "        buttonEl.style.display =\n",
              "          google.colab.kernel.accessAllowed ? 'block' : 'none';\n",
              "\n",
              "        async function convertToInteractive(key) {\n",
              "          const element = document.querySelector('#df-c73f7e12-3af7-45ec-a6b1-9d4dcd92c3e8');\n",
              "          const dataTable =\n",
              "            await google.colab.kernel.invokeFunction('convertToInteractive',\n",
              "                                                     [key], {});\n",
              "          if (!dataTable) return;\n",
              "\n",
              "          const docLinkHtml = 'Like what you see? Visit the ' +\n",
              "            '<a target=\"_blank\" href=https://colab.research.google.com/notebooks/data_table.ipynb>data table notebook</a>'\n",
              "            + ' to learn more about interactive tables.';\n",
              "          element.innerHTML = '';\n",
              "          dataTable['output_type'] = 'display_data';\n",
              "          await google.colab.output.renderOutput(dataTable, element);\n",
              "          const docLink = document.createElement('div');\n",
              "          docLink.innerHTML = docLinkHtml;\n",
              "          element.appendChild(docLink);\n",
              "        }\n",
              "      </script>\n",
              "    </div>\n",
              "  </div>\n",
              "  "
            ]
          },
          "metadata": {},
          "execution_count": 140
        }
      ]
    },
    {
      "cell_type": "markdown",
      "source": [
        ". db est le nom de la DataFrame contenant la base de données Netflix.\n",
        "\n",
        ". db['type'] == 'Movie' crée un masque booléen qui sélectionne toutes les lignes de la DataFrame où le type est \"Movie\".\n",
        "\n",
        ". db['release_year'] == 2021 crée un autre masque booléen qui sélectionne toutes les lignes où la colonne \"release_year\" a une valeur de 2021.\n",
        "\n",
        ". & combine les deux masques booléens pour ne garder que les lignes qui ont à la fois \"type\" égal à \"Movie\" et \"release_year\" égal à 2021.\n",
        "\n",
        "\n"
      ],
      "metadata": {
        "id": "9aIzZbZIo4dn"
      }
    },
    {
      "cell_type": "markdown",
      "source": [
        "# Le code suivant utilise Pandas pour filtrer les émissions de télévision sortis en 2020"
      ],
      "metadata": {
        "id": "2hYBEmYkzdbg"
      }
    },
    {
      "cell_type": "code",
      "source": [
        "TV_Show_2020=db[(db['type'] =='TV Show') & (db['release_year']==2020)]\n",
        "TV_Show_2020.head()"
      ],
      "metadata": {
        "colab": {
          "base_uri": "https://localhost:8080/",
          "height": 441
        },
        "id": "g5Nuy-duzeJp",
        "outputId": "72c7d8f8-6854-49eb-de2a-7a00666ed208"
      },
      "execution_count": null,
      "outputs": [
        {
          "output_type": "execute_result",
          "data": {
            "text/plain": [
              "    show_id     type                    title         director  \\\n",
              "17      s18  TV Show          Falsa identidad              NaN   \n",
              "32      s33  TV Show            Sex Education              NaN   \n",
              "34      s35  TV Show  Tayo and Little Wizards              NaN   \n",
              "47      s48  TV Show    The Smart Money Woman   Bunmi Ajakaiye   \n",
              "148    s149  TV Show               HQ Barbers  Gerhard Mostert   \n",
              "\n",
              "                                                  cast         country  \\\n",
              "17   Luis Ernesto Franco, Camila Sodi, Sergio Goyri...          Mexico   \n",
              "32   Asa Butterfield, Gillian Anderson, Ncuti Gatwa...  United Kingdom   \n",
              "34   Dami Lee, Jason Lee, Bommie Catherine Han, Jen...             NaN   \n",
              "47   Osas Ighodaro, Ini Dima-Okojie, Kemi Lala Akin...             NaN   \n",
              "148  Hakeem Kae-Kazim, Chioma Omeruah, Orukotan Ade...             NaN   \n",
              "\n",
              "            Date_Added   release_year rating   duration  \\\n",
              "17   September 22, 2021          2020  TV-MA  2 Seasons   \n",
              "32   September 17, 2021          2020  TV-MA  3 Seasons   \n",
              "34   September 17, 2021          2020  TV-Y7   1 Season   \n",
              "47   September 16, 2021          2020  TV-MA   1 Season   \n",
              "148   September 1, 2021          2020  TV-14   1 Season   \n",
              "\n",
              "                                             listed_in  \\\n",
              "17   Crime TV Shows, Spanish-Language TV Shows, TV ...   \n",
              "32   British TV Shows, International TV Shows, TV C...   \n",
              "34                                            Kids' TV   \n",
              "47   International TV Shows, Romantic TV Shows, TV ...   \n",
              "148                                           TV Shows   \n",
              "\n",
              "                                           description  \n",
              "17   Strangers Diego and Isabel flee their home in ...  \n",
              "32   Insecure Otis has all the answers when it come...  \n",
              "34   Tayo speeds into an adventure when his friends...  \n",
              "47   Five glamorous millennials strive for success ...  \n",
              "148  When a family run barber shop in the heart of ...  "
            ],
            "text/html": [
              "\n",
              "  <div id=\"df-19199264-ae8a-4edf-a3b4-448c2ecdab21\">\n",
              "    <div class=\"colab-df-container\">\n",
              "      <div>\n",
              "<style scoped>\n",
              "    .dataframe tbody tr th:only-of-type {\n",
              "        vertical-align: middle;\n",
              "    }\n",
              "\n",
              "    .dataframe tbody tr th {\n",
              "        vertical-align: top;\n",
              "    }\n",
              "\n",
              "    .dataframe thead th {\n",
              "        text-align: right;\n",
              "    }\n",
              "</style>\n",
              "<table border=\"1\" class=\"dataframe\">\n",
              "  <thead>\n",
              "    <tr style=\"text-align: right;\">\n",
              "      <th></th>\n",
              "      <th>show_id</th>\n",
              "      <th>type</th>\n",
              "      <th>title</th>\n",
              "      <th>director</th>\n",
              "      <th>cast</th>\n",
              "      <th>country</th>\n",
              "      <th>Date_Added</th>\n",
              "      <th>release_year</th>\n",
              "      <th>rating</th>\n",
              "      <th>duration</th>\n",
              "      <th>listed_in</th>\n",
              "      <th>description</th>\n",
              "    </tr>\n",
              "  </thead>\n",
              "  <tbody>\n",
              "    <tr>\n",
              "      <th>17</th>\n",
              "      <td>s18</td>\n",
              "      <td>TV Show</td>\n",
              "      <td>Falsa identidad</td>\n",
              "      <td>NaN</td>\n",
              "      <td>Luis Ernesto Franco, Camila Sodi, Sergio Goyri...</td>\n",
              "      <td>Mexico</td>\n",
              "      <td>September 22, 2021</td>\n",
              "      <td>2020</td>\n",
              "      <td>TV-MA</td>\n",
              "      <td>2 Seasons</td>\n",
              "      <td>Crime TV Shows, Spanish-Language TV Shows, TV ...</td>\n",
              "      <td>Strangers Diego and Isabel flee their home in ...</td>\n",
              "    </tr>\n",
              "    <tr>\n",
              "      <th>32</th>\n",
              "      <td>s33</td>\n",
              "      <td>TV Show</td>\n",
              "      <td>Sex Education</td>\n",
              "      <td>NaN</td>\n",
              "      <td>Asa Butterfield, Gillian Anderson, Ncuti Gatwa...</td>\n",
              "      <td>United Kingdom</td>\n",
              "      <td>September 17, 2021</td>\n",
              "      <td>2020</td>\n",
              "      <td>TV-MA</td>\n",
              "      <td>3 Seasons</td>\n",
              "      <td>British TV Shows, International TV Shows, TV C...</td>\n",
              "      <td>Insecure Otis has all the answers when it come...</td>\n",
              "    </tr>\n",
              "    <tr>\n",
              "      <th>34</th>\n",
              "      <td>s35</td>\n",
              "      <td>TV Show</td>\n",
              "      <td>Tayo and Little Wizards</td>\n",
              "      <td>NaN</td>\n",
              "      <td>Dami Lee, Jason Lee, Bommie Catherine Han, Jen...</td>\n",
              "      <td>NaN</td>\n",
              "      <td>September 17, 2021</td>\n",
              "      <td>2020</td>\n",
              "      <td>TV-Y7</td>\n",
              "      <td>1 Season</td>\n",
              "      <td>Kids' TV</td>\n",
              "      <td>Tayo speeds into an adventure when his friends...</td>\n",
              "    </tr>\n",
              "    <tr>\n",
              "      <th>47</th>\n",
              "      <td>s48</td>\n",
              "      <td>TV Show</td>\n",
              "      <td>The Smart Money Woman</td>\n",
              "      <td>Bunmi Ajakaiye</td>\n",
              "      <td>Osas Ighodaro, Ini Dima-Okojie, Kemi Lala Akin...</td>\n",
              "      <td>NaN</td>\n",
              "      <td>September 16, 2021</td>\n",
              "      <td>2020</td>\n",
              "      <td>TV-MA</td>\n",
              "      <td>1 Season</td>\n",
              "      <td>International TV Shows, Romantic TV Shows, TV ...</td>\n",
              "      <td>Five glamorous millennials strive for success ...</td>\n",
              "    </tr>\n",
              "    <tr>\n",
              "      <th>148</th>\n",
              "      <td>s149</td>\n",
              "      <td>TV Show</td>\n",
              "      <td>HQ Barbers</td>\n",
              "      <td>Gerhard Mostert</td>\n",
              "      <td>Hakeem Kae-Kazim, Chioma Omeruah, Orukotan Ade...</td>\n",
              "      <td>NaN</td>\n",
              "      <td>September 1, 2021</td>\n",
              "      <td>2020</td>\n",
              "      <td>TV-14</td>\n",
              "      <td>1 Season</td>\n",
              "      <td>TV Shows</td>\n",
              "      <td>When a family run barber shop in the heart of ...</td>\n",
              "    </tr>\n",
              "  </tbody>\n",
              "</table>\n",
              "</div>\n",
              "      <button class=\"colab-df-convert\" onclick=\"convertToInteractive('df-19199264-ae8a-4edf-a3b4-448c2ecdab21')\"\n",
              "              title=\"Convert this dataframe to an interactive table.\"\n",
              "              style=\"display:none;\">\n",
              "        \n",
              "  <svg xmlns=\"http://www.w3.org/2000/svg\" height=\"24px\"viewBox=\"0 0 24 24\"\n",
              "       width=\"24px\">\n",
              "    <path d=\"M0 0h24v24H0V0z\" fill=\"none\"/>\n",
              "    <path d=\"M18.56 5.44l.94 2.06.94-2.06 2.06-.94-2.06-.94-.94-2.06-.94 2.06-2.06.94zm-11 1L8.5 8.5l.94-2.06 2.06-.94-2.06-.94L8.5 2.5l-.94 2.06-2.06.94zm10 10l.94 2.06.94-2.06 2.06-.94-2.06-.94-.94-2.06-.94 2.06-2.06.94z\"/><path d=\"M17.41 7.96l-1.37-1.37c-.4-.4-.92-.59-1.43-.59-.52 0-1.04.2-1.43.59L10.3 9.45l-7.72 7.72c-.78.78-.78 2.05 0 2.83L4 21.41c.39.39.9.59 1.41.59.51 0 1.02-.2 1.41-.59l7.78-7.78 2.81-2.81c.8-.78.8-2.07 0-2.86zM5.41 20L4 18.59l7.72-7.72 1.47 1.35L5.41 20z\"/>\n",
              "  </svg>\n",
              "      </button>\n",
              "      \n",
              "  <style>\n",
              "    .colab-df-container {\n",
              "      display:flex;\n",
              "      flex-wrap:wrap;\n",
              "      gap: 12px;\n",
              "    }\n",
              "\n",
              "    .colab-df-convert {\n",
              "      background-color: #E8F0FE;\n",
              "      border: none;\n",
              "      border-radius: 50%;\n",
              "      cursor: pointer;\n",
              "      display: none;\n",
              "      fill: #1967D2;\n",
              "      height: 32px;\n",
              "      padding: 0 0 0 0;\n",
              "      width: 32px;\n",
              "    }\n",
              "\n",
              "    .colab-df-convert:hover {\n",
              "      background-color: #E2EBFA;\n",
              "      box-shadow: 0px 1px 2px rgba(60, 64, 67, 0.3), 0px 1px 3px 1px rgba(60, 64, 67, 0.15);\n",
              "      fill: #174EA6;\n",
              "    }\n",
              "\n",
              "    [theme=dark] .colab-df-convert {\n",
              "      background-color: #3B4455;\n",
              "      fill: #D2E3FC;\n",
              "    }\n",
              "\n",
              "    [theme=dark] .colab-df-convert:hover {\n",
              "      background-color: #434B5C;\n",
              "      box-shadow: 0px 1px 3px 1px rgba(0, 0, 0, 0.15);\n",
              "      filter: drop-shadow(0px 1px 2px rgba(0, 0, 0, 0.3));\n",
              "      fill: #FFFFFF;\n",
              "    }\n",
              "  </style>\n",
              "\n",
              "      <script>\n",
              "        const buttonEl =\n",
              "          document.querySelector('#df-19199264-ae8a-4edf-a3b4-448c2ecdab21 button.colab-df-convert');\n",
              "        buttonEl.style.display =\n",
              "          google.colab.kernel.accessAllowed ? 'block' : 'none';\n",
              "\n",
              "        async function convertToInteractive(key) {\n",
              "          const element = document.querySelector('#df-19199264-ae8a-4edf-a3b4-448c2ecdab21');\n",
              "          const dataTable =\n",
              "            await google.colab.kernel.invokeFunction('convertToInteractive',\n",
              "                                                     [key], {});\n",
              "          if (!dataTable) return;\n",
              "\n",
              "          const docLinkHtml = 'Like what you see? Visit the ' +\n",
              "            '<a target=\"_blank\" href=https://colab.research.google.com/notebooks/data_table.ipynb>data table notebook</a>'\n",
              "            + ' to learn more about interactive tables.';\n",
              "          element.innerHTML = '';\n",
              "          dataTable['output_type'] = 'display_data';\n",
              "          await google.colab.output.renderOutput(dataTable, element);\n",
              "          const docLink = document.createElement('div');\n",
              "          docLink.innerHTML = docLinkHtml;\n",
              "          element.appendChild(docLink);\n",
              "        }\n",
              "      </script>\n",
              "    </div>\n",
              "  </div>\n",
              "  "
            ]
          },
          "metadata": {},
          "execution_count": 145
        }
      ]
    },
    {
      "cell_type": "markdown",
      "source": [
        "**La commande db[(db['type'] =='TV Show') & (db['release_year']==2020)] filtre le DataFrame db pour ne conserver que les lignes où la valeur de la colonne \"type\" est \"TV Show\" et la valeur de la colonne \"release_year\" est égale à 2020.**\n",
        "\n",
        "**Plus précisément, db['type'] =='TV Show' crée un masque booléen qui vaut True pour les lignes où la valeur de la colonne \"type\" est \"TV Show\" et False sinon. De même, db['release_year']==2020 crée un masque booléen qui vaut True pour les lignes où la valeur de la colonne \"release_year\" est égale à 2020 et False sinon.**\n",
        "\n",
        "**L'opérateur & combine ces deux masques pour créer un nouveau masque booléen qui vaut True uniquement pour les lignes qui satisfont les deux conditions à la fois. Finalement, l'expression db[(db['type'] =='TV Show') & (db['release_year']==2020)] utilise ce masque booléen pour sélectionner uniquement les lignes du DataFrame db qui satisfont les deux conditions.**\n",
        "\n",
        "**Ainsi, la variable TV_Show_2020 contient un nouveau DataFrame qui contient uniquement les TV shows sortis en 2020 dans le DataFrame db.**"
      ],
      "metadata": {
        "id": "0mS5u4V_AmCj"
      }
    },
    {
      "cell_type": "markdown",
      "source": [
        "# **Le code suivant extrait tous les films de la base de données Netflix qui ont été produits aux États-Unis :**"
      ],
      "metadata": {
        "id": "HZQBfcSc1cOO"
      }
    },
    {
      "cell_type": "code",
      "source": [
        "db[(db['type']=='Movie') & (db['country']=='United States')].head()\n"
      ],
      "metadata": {
        "colab": {
          "base_uri": "https://localhost:8080/",
          "height": 441
        },
        "id": "VsXKfBN60nPp",
        "outputId": "8f183074-ffbb-4466-fe4c-7ae19e947f1b"
      },
      "execution_count": null,
      "outputs": [
        {
          "output_type": "execute_result",
          "data": {
            "text/plain": [
              "   show_id   type                 title          director  \\\n",
              "0       s1  Movie  Dick Johnson Is Dead   Kirsten Johnson   \n",
              "9      s10  Movie          The Starling    Theodore Melfi   \n",
              "27     s28  Movie             Grown Ups      Dennis Dugan   \n",
              "28     s29  Movie            Dark Skies     Scott Stewart   \n",
              "41     s42  Movie                  Jaws  Steven Spielberg   \n",
              "\n",
              "                                                 cast        country  \\\n",
              "0                                                 NaN  United States   \n",
              "9   Melissa McCarthy, Chris O'Dowd, Kevin Kline, T...  United States   \n",
              "27  Adam Sandler, Kevin James, Chris Rock, David S...  United States   \n",
              "28  Keri Russell, Josh Hamilton, J.K. Simmons, Dak...  United States   \n",
              "41  Roy Scheider, Robert Shaw, Richard Dreyfuss, L...  United States   \n",
              "\n",
              "           Date_Added   release_year rating duration  \\\n",
              "0   September 25, 2021          2020  PG-13   90 min   \n",
              "9   September 24, 2021          2021  PG-13  104 min   \n",
              "27  September 20, 2021          2010  PG-13  103 min   \n",
              "28  September 19, 2021          2013  PG-13   97 min   \n",
              "41  September 16, 2021          1975     PG  124 min   \n",
              "\n",
              "                                     listed_in  \\\n",
              "0                                Documentaries   \n",
              "9                             Comedies, Dramas   \n",
              "27                                    Comedies   \n",
              "28             Horror Movies, Sci-Fi & Fantasy   \n",
              "41  Action & Adventure, Classic Movies, Dramas   \n",
              "\n",
              "                                          description  \n",
              "0   As her father nears the end of his life, filmm...  \n",
              "9   A woman adjusting to life after a loss contend...  \n",
              "27  Mourning the loss of their beloved junior high...  \n",
              "28  A family’s idyllic suburban life shatters when...  \n",
              "41  When an insatiable great white shark terrorize...  "
            ],
            "text/html": [
              "\n",
              "  <div id=\"df-897b3b7c-627c-4477-8b77-247522298e4b\">\n",
              "    <div class=\"colab-df-container\">\n",
              "      <div>\n",
              "<style scoped>\n",
              "    .dataframe tbody tr th:only-of-type {\n",
              "        vertical-align: middle;\n",
              "    }\n",
              "\n",
              "    .dataframe tbody tr th {\n",
              "        vertical-align: top;\n",
              "    }\n",
              "\n",
              "    .dataframe thead th {\n",
              "        text-align: right;\n",
              "    }\n",
              "</style>\n",
              "<table border=\"1\" class=\"dataframe\">\n",
              "  <thead>\n",
              "    <tr style=\"text-align: right;\">\n",
              "      <th></th>\n",
              "      <th>show_id</th>\n",
              "      <th>type</th>\n",
              "      <th>title</th>\n",
              "      <th>director</th>\n",
              "      <th>cast</th>\n",
              "      <th>country</th>\n",
              "      <th>Date_Added</th>\n",
              "      <th>release_year</th>\n",
              "      <th>rating</th>\n",
              "      <th>duration</th>\n",
              "      <th>listed_in</th>\n",
              "      <th>description</th>\n",
              "    </tr>\n",
              "  </thead>\n",
              "  <tbody>\n",
              "    <tr>\n",
              "      <th>0</th>\n",
              "      <td>s1</td>\n",
              "      <td>Movie</td>\n",
              "      <td>Dick Johnson Is Dead</td>\n",
              "      <td>Kirsten Johnson</td>\n",
              "      <td>NaN</td>\n",
              "      <td>United States</td>\n",
              "      <td>September 25, 2021</td>\n",
              "      <td>2020</td>\n",
              "      <td>PG-13</td>\n",
              "      <td>90 min</td>\n",
              "      <td>Documentaries</td>\n",
              "      <td>As her father nears the end of his life, filmm...</td>\n",
              "    </tr>\n",
              "    <tr>\n",
              "      <th>9</th>\n",
              "      <td>s10</td>\n",
              "      <td>Movie</td>\n",
              "      <td>The Starling</td>\n",
              "      <td>Theodore Melfi</td>\n",
              "      <td>Melissa McCarthy, Chris O'Dowd, Kevin Kline, T...</td>\n",
              "      <td>United States</td>\n",
              "      <td>September 24, 2021</td>\n",
              "      <td>2021</td>\n",
              "      <td>PG-13</td>\n",
              "      <td>104 min</td>\n",
              "      <td>Comedies, Dramas</td>\n",
              "      <td>A woman adjusting to life after a loss contend...</td>\n",
              "    </tr>\n",
              "    <tr>\n",
              "      <th>27</th>\n",
              "      <td>s28</td>\n",
              "      <td>Movie</td>\n",
              "      <td>Grown Ups</td>\n",
              "      <td>Dennis Dugan</td>\n",
              "      <td>Adam Sandler, Kevin James, Chris Rock, David S...</td>\n",
              "      <td>United States</td>\n",
              "      <td>September 20, 2021</td>\n",
              "      <td>2010</td>\n",
              "      <td>PG-13</td>\n",
              "      <td>103 min</td>\n",
              "      <td>Comedies</td>\n",
              "      <td>Mourning the loss of their beloved junior high...</td>\n",
              "    </tr>\n",
              "    <tr>\n",
              "      <th>28</th>\n",
              "      <td>s29</td>\n",
              "      <td>Movie</td>\n",
              "      <td>Dark Skies</td>\n",
              "      <td>Scott Stewart</td>\n",
              "      <td>Keri Russell, Josh Hamilton, J.K. Simmons, Dak...</td>\n",
              "      <td>United States</td>\n",
              "      <td>September 19, 2021</td>\n",
              "      <td>2013</td>\n",
              "      <td>PG-13</td>\n",
              "      <td>97 min</td>\n",
              "      <td>Horror Movies, Sci-Fi &amp; Fantasy</td>\n",
              "      <td>A family’s idyllic suburban life shatters when...</td>\n",
              "    </tr>\n",
              "    <tr>\n",
              "      <th>41</th>\n",
              "      <td>s42</td>\n",
              "      <td>Movie</td>\n",
              "      <td>Jaws</td>\n",
              "      <td>Steven Spielberg</td>\n",
              "      <td>Roy Scheider, Robert Shaw, Richard Dreyfuss, L...</td>\n",
              "      <td>United States</td>\n",
              "      <td>September 16, 2021</td>\n",
              "      <td>1975</td>\n",
              "      <td>PG</td>\n",
              "      <td>124 min</td>\n",
              "      <td>Action &amp; Adventure, Classic Movies, Dramas</td>\n",
              "      <td>When an insatiable great white shark terrorize...</td>\n",
              "    </tr>\n",
              "  </tbody>\n",
              "</table>\n",
              "</div>\n",
              "      <button class=\"colab-df-convert\" onclick=\"convertToInteractive('df-897b3b7c-627c-4477-8b77-247522298e4b')\"\n",
              "              title=\"Convert this dataframe to an interactive table.\"\n",
              "              style=\"display:none;\">\n",
              "        \n",
              "  <svg xmlns=\"http://www.w3.org/2000/svg\" height=\"24px\"viewBox=\"0 0 24 24\"\n",
              "       width=\"24px\">\n",
              "    <path d=\"M0 0h24v24H0V0z\" fill=\"none\"/>\n",
              "    <path d=\"M18.56 5.44l.94 2.06.94-2.06 2.06-.94-2.06-.94-.94-2.06-.94 2.06-2.06.94zm-11 1L8.5 8.5l.94-2.06 2.06-.94-2.06-.94L8.5 2.5l-.94 2.06-2.06.94zm10 10l.94 2.06.94-2.06 2.06-.94-2.06-.94-.94-2.06-.94 2.06-2.06.94z\"/><path d=\"M17.41 7.96l-1.37-1.37c-.4-.4-.92-.59-1.43-.59-.52 0-1.04.2-1.43.59L10.3 9.45l-7.72 7.72c-.78.78-.78 2.05 0 2.83L4 21.41c.39.39.9.59 1.41.59.51 0 1.02-.2 1.41-.59l7.78-7.78 2.81-2.81c.8-.78.8-2.07 0-2.86zM5.41 20L4 18.59l7.72-7.72 1.47 1.35L5.41 20z\"/>\n",
              "  </svg>\n",
              "      </button>\n",
              "      \n",
              "  <style>\n",
              "    .colab-df-container {\n",
              "      display:flex;\n",
              "      flex-wrap:wrap;\n",
              "      gap: 12px;\n",
              "    }\n",
              "\n",
              "    .colab-df-convert {\n",
              "      background-color: #E8F0FE;\n",
              "      border: none;\n",
              "      border-radius: 50%;\n",
              "      cursor: pointer;\n",
              "      display: none;\n",
              "      fill: #1967D2;\n",
              "      height: 32px;\n",
              "      padding: 0 0 0 0;\n",
              "      width: 32px;\n",
              "    }\n",
              "\n",
              "    .colab-df-convert:hover {\n",
              "      background-color: #E2EBFA;\n",
              "      box-shadow: 0px 1px 2px rgba(60, 64, 67, 0.3), 0px 1px 3px 1px rgba(60, 64, 67, 0.15);\n",
              "      fill: #174EA6;\n",
              "    }\n",
              "\n",
              "    [theme=dark] .colab-df-convert {\n",
              "      background-color: #3B4455;\n",
              "      fill: #D2E3FC;\n",
              "    }\n",
              "\n",
              "    [theme=dark] .colab-df-convert:hover {\n",
              "      background-color: #434B5C;\n",
              "      box-shadow: 0px 1px 3px 1px rgba(0, 0, 0, 0.15);\n",
              "      filter: drop-shadow(0px 1px 2px rgba(0, 0, 0, 0.3));\n",
              "      fill: #FFFFFF;\n",
              "    }\n",
              "  </style>\n",
              "\n",
              "      <script>\n",
              "        const buttonEl =\n",
              "          document.querySelector('#df-897b3b7c-627c-4477-8b77-247522298e4b button.colab-df-convert');\n",
              "        buttonEl.style.display =\n",
              "          google.colab.kernel.accessAllowed ? 'block' : 'none';\n",
              "\n",
              "        async function convertToInteractive(key) {\n",
              "          const element = document.querySelector('#df-897b3b7c-627c-4477-8b77-247522298e4b');\n",
              "          const dataTable =\n",
              "            await google.colab.kernel.invokeFunction('convertToInteractive',\n",
              "                                                     [key], {});\n",
              "          if (!dataTable) return;\n",
              "\n",
              "          const docLinkHtml = 'Like what you see? Visit the ' +\n",
              "            '<a target=\"_blank\" href=https://colab.research.google.com/notebooks/data_table.ipynb>data table notebook</a>'\n",
              "            + ' to learn more about interactive tables.';\n",
              "          element.innerHTML = '';\n",
              "          dataTable['output_type'] = 'display_data';\n",
              "          await google.colab.output.renderOutput(dataTable, element);\n",
              "          const docLink = document.createElement('div');\n",
              "          docLink.innerHTML = docLinkHtml;\n",
              "          element.appendChild(docLink);\n",
              "        }\n",
              "      </script>\n",
              "    </div>\n",
              "  </div>\n",
              "  "
            ]
          },
          "metadata": {},
          "execution_count": 148
        }
      ]
    },
    {
      "cell_type": "markdown",
      "source": [
        "**La commande db[(db['type']=='Movie') & (db['country']=='United States')].head() filtre le DataFrame db pour ne conserver que les lignes où la valeur de la colonne \"type\" est \"Movie\" et la valeur de la colonne \"country\" est \"United States\".**\n",
        "\n",
        "**Plus précisément, db['type'] =='Movie' crée un masque booléen qui vaut True pour les lignes où la valeur de la colonne \"type\" est \"Movie\" et False sinon. De même, db['country']=='United States' crée un masque booléen qui vaut True pour les lignes où la valeur de la colonne \"country\" est \"United States\" et False sinon.**\n",
        "\n",
        "**L'opérateur & combine ces deux masques pour créer un nouveau masque booléen qui vaut True uniquement pour les lignes qui satisfont les deux conditions à la fois. Finalement, l'expression db[(db['type']=='Movie') & (db['country']=='United States')].head() utilise ce masque booléen pour sélectionner uniquement les lignes du DataFrame db qui satisfont les deux conditions, et renvoie les 5 premières lignes du résultat.**\n",
        "\n",
        "**Ainsi, la commande renvoie les 5 premiers films du DataFrame db qui ont été produits aux États-Unis.**"
      ],
      "metadata": {
        "id": "Ovi_7_TlCwjb"
      }
    },
    {
      "cell_type": "markdown",
      "source": [
        "# **Le code suivant extrait tous les émissions de télévision de la base de données Netflix qui ont été produits aux États-Unis :**"
      ],
      "metadata": {
        "id": "Ibk7W2xy1f4N"
      }
    },
    {
      "cell_type": "code",
      "source": [
        "db[(db['type']=='TV Show') & (db['country']=='United States')].head()"
      ],
      "metadata": {
        "colab": {
          "base_uri": "https://localhost:8080/",
          "height": 424
        },
        "id": "9EkpMYIJ1ndO",
        "outputId": "8fcfe696-18b9-4a88-ae35-18622ab7d217"
      },
      "execution_count": null,
      "outputs": [
        {
          "output_type": "execute_result",
          "data": {
            "text/plain": [
              "   show_id     type                                   title director  \\\n",
              "15     s16  TV Show                       Dear White People      NaN   \n",
              "40     s41  TV Show  He-Man and the Masters of the Universe      NaN   \n",
              "55     s56  TV Show                               Nailed It      NaN   \n",
              "67     s68  TV Show                       Saved by the Bell      NaN   \n",
              "82     s83  TV Show                                 Lucifer      NaN   \n",
              "\n",
              "                                                 cast        country  \\\n",
              "15  Logan Browning, Brandon P. Bell, DeRon Horton,...  United States   \n",
              "40  Yuri Lowenthal, Kimberly Brooks, Antony Del Ri...  United States   \n",
              "55                        Nicole Byer, Jacques Torres  United States   \n",
              "67  Mark-Paul Gosselaar, Tiffani Thiessen, Mario L...  United States   \n",
              "82  Tom Ellis, Lauren German, Kevin Alejandro, D.B...  United States   \n",
              "\n",
              "           Date_Added   release_year rating   duration  \\\n",
              "15  September 22, 2021          2021  TV-MA  4 Seasons   \n",
              "40  September 16, 2021          2021  TV-Y7   1 Season   \n",
              "55  September 15, 2021          2021  TV-PG  6 Seasons   \n",
              "67  September 15, 2021          1994  TV-PG  9 Seasons   \n",
              "82  September 10, 2021          2021  TV-14  6 Seasons   \n",
              "\n",
              "                                 listed_in  \\\n",
              "15                  TV Comedies, TV Dramas   \n",
              "40           Kids' TV, TV Sci-Fi & Fantasy   \n",
              "55                              Reality TV   \n",
              "67                   Kids' TV, TV Comedies   \n",
              "82  Crime TV Shows, TV Comedies, TV Dramas   \n",
              "\n",
              "                                          description  \n",
              "15  Students of color navigate the daily slights a...  \n",
              "40  Mighty teen Adam and his heroic squad of misfi...  \n",
              "55  Home bakers with a terrible track record take ...  \n",
              "67  From middle school to college, best friends Za...  \n",
              "82  Bored with being the Lord of Hell, the devil r...  "
            ],
            "text/html": [
              "\n",
              "  <div id=\"df-4413e0d7-2607-497c-a0eb-ba6c2d66ee92\">\n",
              "    <div class=\"colab-df-container\">\n",
              "      <div>\n",
              "<style scoped>\n",
              "    .dataframe tbody tr th:only-of-type {\n",
              "        vertical-align: middle;\n",
              "    }\n",
              "\n",
              "    .dataframe tbody tr th {\n",
              "        vertical-align: top;\n",
              "    }\n",
              "\n",
              "    .dataframe thead th {\n",
              "        text-align: right;\n",
              "    }\n",
              "</style>\n",
              "<table border=\"1\" class=\"dataframe\">\n",
              "  <thead>\n",
              "    <tr style=\"text-align: right;\">\n",
              "      <th></th>\n",
              "      <th>show_id</th>\n",
              "      <th>type</th>\n",
              "      <th>title</th>\n",
              "      <th>director</th>\n",
              "      <th>cast</th>\n",
              "      <th>country</th>\n",
              "      <th>Date_Added</th>\n",
              "      <th>release_year</th>\n",
              "      <th>rating</th>\n",
              "      <th>duration</th>\n",
              "      <th>listed_in</th>\n",
              "      <th>description</th>\n",
              "    </tr>\n",
              "  </thead>\n",
              "  <tbody>\n",
              "    <tr>\n",
              "      <th>15</th>\n",
              "      <td>s16</td>\n",
              "      <td>TV Show</td>\n",
              "      <td>Dear White People</td>\n",
              "      <td>NaN</td>\n",
              "      <td>Logan Browning, Brandon P. Bell, DeRon Horton,...</td>\n",
              "      <td>United States</td>\n",
              "      <td>September 22, 2021</td>\n",
              "      <td>2021</td>\n",
              "      <td>TV-MA</td>\n",
              "      <td>4 Seasons</td>\n",
              "      <td>TV Comedies, TV Dramas</td>\n",
              "      <td>Students of color navigate the daily slights a...</td>\n",
              "    </tr>\n",
              "    <tr>\n",
              "      <th>40</th>\n",
              "      <td>s41</td>\n",
              "      <td>TV Show</td>\n",
              "      <td>He-Man and the Masters of the Universe</td>\n",
              "      <td>NaN</td>\n",
              "      <td>Yuri Lowenthal, Kimberly Brooks, Antony Del Ri...</td>\n",
              "      <td>United States</td>\n",
              "      <td>September 16, 2021</td>\n",
              "      <td>2021</td>\n",
              "      <td>TV-Y7</td>\n",
              "      <td>1 Season</td>\n",
              "      <td>Kids' TV, TV Sci-Fi &amp; Fantasy</td>\n",
              "      <td>Mighty teen Adam and his heroic squad of misfi...</td>\n",
              "    </tr>\n",
              "    <tr>\n",
              "      <th>55</th>\n",
              "      <td>s56</td>\n",
              "      <td>TV Show</td>\n",
              "      <td>Nailed It</td>\n",
              "      <td>NaN</td>\n",
              "      <td>Nicole Byer, Jacques Torres</td>\n",
              "      <td>United States</td>\n",
              "      <td>September 15, 2021</td>\n",
              "      <td>2021</td>\n",
              "      <td>TV-PG</td>\n",
              "      <td>6 Seasons</td>\n",
              "      <td>Reality TV</td>\n",
              "      <td>Home bakers with a terrible track record take ...</td>\n",
              "    </tr>\n",
              "    <tr>\n",
              "      <th>67</th>\n",
              "      <td>s68</td>\n",
              "      <td>TV Show</td>\n",
              "      <td>Saved by the Bell</td>\n",
              "      <td>NaN</td>\n",
              "      <td>Mark-Paul Gosselaar, Tiffani Thiessen, Mario L...</td>\n",
              "      <td>United States</td>\n",
              "      <td>September 15, 2021</td>\n",
              "      <td>1994</td>\n",
              "      <td>TV-PG</td>\n",
              "      <td>9 Seasons</td>\n",
              "      <td>Kids' TV, TV Comedies</td>\n",
              "      <td>From middle school to college, best friends Za...</td>\n",
              "    </tr>\n",
              "    <tr>\n",
              "      <th>82</th>\n",
              "      <td>s83</td>\n",
              "      <td>TV Show</td>\n",
              "      <td>Lucifer</td>\n",
              "      <td>NaN</td>\n",
              "      <td>Tom Ellis, Lauren German, Kevin Alejandro, D.B...</td>\n",
              "      <td>United States</td>\n",
              "      <td>September 10, 2021</td>\n",
              "      <td>2021</td>\n",
              "      <td>TV-14</td>\n",
              "      <td>6 Seasons</td>\n",
              "      <td>Crime TV Shows, TV Comedies, TV Dramas</td>\n",
              "      <td>Bored with being the Lord of Hell, the devil r...</td>\n",
              "    </tr>\n",
              "  </tbody>\n",
              "</table>\n",
              "</div>\n",
              "      <button class=\"colab-df-convert\" onclick=\"convertToInteractive('df-4413e0d7-2607-497c-a0eb-ba6c2d66ee92')\"\n",
              "              title=\"Convert this dataframe to an interactive table.\"\n",
              "              style=\"display:none;\">\n",
              "        \n",
              "  <svg xmlns=\"http://www.w3.org/2000/svg\" height=\"24px\"viewBox=\"0 0 24 24\"\n",
              "       width=\"24px\">\n",
              "    <path d=\"M0 0h24v24H0V0z\" fill=\"none\"/>\n",
              "    <path d=\"M18.56 5.44l.94 2.06.94-2.06 2.06-.94-2.06-.94-.94-2.06-.94 2.06-2.06.94zm-11 1L8.5 8.5l.94-2.06 2.06-.94-2.06-.94L8.5 2.5l-.94 2.06-2.06.94zm10 10l.94 2.06.94-2.06 2.06-.94-2.06-.94-.94-2.06-.94 2.06-2.06.94z\"/><path d=\"M17.41 7.96l-1.37-1.37c-.4-.4-.92-.59-1.43-.59-.52 0-1.04.2-1.43.59L10.3 9.45l-7.72 7.72c-.78.78-.78 2.05 0 2.83L4 21.41c.39.39.9.59 1.41.59.51 0 1.02-.2 1.41-.59l7.78-7.78 2.81-2.81c.8-.78.8-2.07 0-2.86zM5.41 20L4 18.59l7.72-7.72 1.47 1.35L5.41 20z\"/>\n",
              "  </svg>\n",
              "      </button>\n",
              "      \n",
              "  <style>\n",
              "    .colab-df-container {\n",
              "      display:flex;\n",
              "      flex-wrap:wrap;\n",
              "      gap: 12px;\n",
              "    }\n",
              "\n",
              "    .colab-df-convert {\n",
              "      background-color: #E8F0FE;\n",
              "      border: none;\n",
              "      border-radius: 50%;\n",
              "      cursor: pointer;\n",
              "      display: none;\n",
              "      fill: #1967D2;\n",
              "      height: 32px;\n",
              "      padding: 0 0 0 0;\n",
              "      width: 32px;\n",
              "    }\n",
              "\n",
              "    .colab-df-convert:hover {\n",
              "      background-color: #E2EBFA;\n",
              "      box-shadow: 0px 1px 2px rgba(60, 64, 67, 0.3), 0px 1px 3px 1px rgba(60, 64, 67, 0.15);\n",
              "      fill: #174EA6;\n",
              "    }\n",
              "\n",
              "    [theme=dark] .colab-df-convert {\n",
              "      background-color: #3B4455;\n",
              "      fill: #D2E3FC;\n",
              "    }\n",
              "\n",
              "    [theme=dark] .colab-df-convert:hover {\n",
              "      background-color: #434B5C;\n",
              "      box-shadow: 0px 1px 3px 1px rgba(0, 0, 0, 0.15);\n",
              "      filter: drop-shadow(0px 1px 2px rgba(0, 0, 0, 0.3));\n",
              "      fill: #FFFFFF;\n",
              "    }\n",
              "  </style>\n",
              "\n",
              "      <script>\n",
              "        const buttonEl =\n",
              "          document.querySelector('#df-4413e0d7-2607-497c-a0eb-ba6c2d66ee92 button.colab-df-convert');\n",
              "        buttonEl.style.display =\n",
              "          google.colab.kernel.accessAllowed ? 'block' : 'none';\n",
              "\n",
              "        async function convertToInteractive(key) {\n",
              "          const element = document.querySelector('#df-4413e0d7-2607-497c-a0eb-ba6c2d66ee92');\n",
              "          const dataTable =\n",
              "            await google.colab.kernel.invokeFunction('convertToInteractive',\n",
              "                                                     [key], {});\n",
              "          if (!dataTable) return;\n",
              "\n",
              "          const docLinkHtml = 'Like what you see? Visit the ' +\n",
              "            '<a target=\"_blank\" href=https://colab.research.google.com/notebooks/data_table.ipynb>data table notebook</a>'\n",
              "            + ' to learn more about interactive tables.';\n",
              "          element.innerHTML = '';\n",
              "          dataTable['output_type'] = 'display_data';\n",
              "          await google.colab.output.renderOutput(dataTable, element);\n",
              "          const docLink = document.createElement('div');\n",
              "          docLink.innerHTML = docLinkHtml;\n",
              "          element.appendChild(docLink);\n",
              "        }\n",
              "      </script>\n",
              "    </div>\n",
              "  </div>\n",
              "  "
            ]
          },
          "metadata": {},
          "execution_count": 149
        }
      ]
    },
    {
      "cell_type": "markdown",
      "source": [
        "**La commande db[(db['type']=='TV Show') & (db['country']=='United States')].head() filtre le DataFrame db pour ne conserver que les lignes où la valeur de la colonne \"type\" est \"TV Show\" et la valeur de la colonne \"country\" est \"United States\".**\n",
        "\n",
        "**Plus précisément, db['type'] =='TV Show' crée un masque booléen qui vaut True pour les lignes où la valeur de la colonne \"type\" est \"TV Show\" et False sinon. De même, db['country']=='United States' crée un masque booléen qui vaut True pour les lignes où la valeur de la colonne \"country\" est \"United States\" et False sinon.**\n",
        "\n",
        "**L'opérateur & combine ces deux masques pour créer un nouveau masque booléen qui vaut True uniquement pour les lignes qui satisfont les deux conditions à la fois. Finalement, l'expression db[(db['type']=='TV Show') & (db['country']=='United States')].head() utilise ce masque booléen pour sélectionner uniquement les lignes du DataFrame db qui satisfont les deux conditions, et renvoie les 5 premières lignes du résultat.**\n",
        "\n",
        "**Ainsi, la commande renvoie les 5 premières séries du DataFrame db qui ont été produites aux États-Unis.**"
      ],
      "metadata": {
        "id": "GgpYXg2zDO8s"
      }
    },
    {
      "cell_type": "markdown",
      "source": [
        "# Le code suivant extrait les 5 premières entrées de la base de données Netflix qui sont des émissions de télévision de genre \"TV Dramas\" :"
      ],
      "metadata": {
        "id": "l0GfAQu82gLq"
      }
    },
    {
      "cell_type": "code",
      "source": [
        "db[(db['type']=='TV Show') & (db['listed_in']=='TV Dramas')].head()"
      ],
      "metadata": {
        "colab": {
          "base_uri": "https://localhost:8080/",
          "height": 424
        },
        "id": "qcZLQDnX2fe2",
        "outputId": "65bab3e3-cc98-4095-85d2-7612dd17e38d"
      },
      "execution_count": null,
      "outputs": [
        {
          "output_type": "execute_result",
          "data": {
            "text/plain": [
              "     show_id     type               title        director  \\\n",
              "425     s426  TV Show         Chicago Med             NaN   \n",
              "674     s675  TV Show                Pose             NaN   \n",
              "879     s880  TV Show             Halston  Daniel Minahan   \n",
              "920     s921  TV Show  Selena: The Series             NaN   \n",
              "1354   s1355  TV Show           Heartland             NaN   \n",
              "\n",
              "                                                   cast  \\\n",
              "425   Colin Donnell, Torrey DeVitto, Oliver Platt, S...   \n",
              "674   Mj Rodriguez, Billy Porter, Evan Peters, Kate ...   \n",
              "879   Ewan McGregor, Bill Pullman, Rebecca Dayan, Da...   \n",
              "920   Christian Serratos, Gabriel Chavarria, Ricardo...   \n",
              "1354  Amber Marshall, Michelle Morgan, Graham Wardle...   \n",
              "\n",
              "                    country       Date_Added   release_year rating  \\\n",
              "425           United States     July 22, 2021          2019  TV-14   \n",
              "674           United States     June 19, 2021          2019  TV-MA   \n",
              "879           United States      May 14, 2021          2021  TV-MA   \n",
              "920   Mexico, United States       May 4, 2021          2020  TV-PG   \n",
              "1354                 Canada  February 1, 2021          2019  TV-14   \n",
              "\n",
              "        duration  listed_in                                        description  \n",
              "425    5 Seasons  TV Dramas  The doctors and nurses of Gaffney Chicago Medi...  \n",
              "674    2 Seasons  TV Dramas  In 1987 New York, LGBTQ ball fixture Blanca st...  \n",
              "879     1 Season  TV Dramas  His name built an empire. His style defined an...  \n",
              "920    2 Seasons  TV Dramas  Iconic Mexican-American performer Selena rises...  \n",
              "1354  13 Seasons  TV Dramas  Spunky teenager Amy is reeling from the sudden...  "
            ],
            "text/html": [
              "\n",
              "  <div id=\"df-4e9b54cb-372b-4471-a81f-b9988654474e\">\n",
              "    <div class=\"colab-df-container\">\n",
              "      <div>\n",
              "<style scoped>\n",
              "    .dataframe tbody tr th:only-of-type {\n",
              "        vertical-align: middle;\n",
              "    }\n",
              "\n",
              "    .dataframe tbody tr th {\n",
              "        vertical-align: top;\n",
              "    }\n",
              "\n",
              "    .dataframe thead th {\n",
              "        text-align: right;\n",
              "    }\n",
              "</style>\n",
              "<table border=\"1\" class=\"dataframe\">\n",
              "  <thead>\n",
              "    <tr style=\"text-align: right;\">\n",
              "      <th></th>\n",
              "      <th>show_id</th>\n",
              "      <th>type</th>\n",
              "      <th>title</th>\n",
              "      <th>director</th>\n",
              "      <th>cast</th>\n",
              "      <th>country</th>\n",
              "      <th>Date_Added</th>\n",
              "      <th>release_year</th>\n",
              "      <th>rating</th>\n",
              "      <th>duration</th>\n",
              "      <th>listed_in</th>\n",
              "      <th>description</th>\n",
              "    </tr>\n",
              "  </thead>\n",
              "  <tbody>\n",
              "    <tr>\n",
              "      <th>425</th>\n",
              "      <td>s426</td>\n",
              "      <td>TV Show</td>\n",
              "      <td>Chicago Med</td>\n",
              "      <td>NaN</td>\n",
              "      <td>Colin Donnell, Torrey DeVitto, Oliver Platt, S...</td>\n",
              "      <td>United States</td>\n",
              "      <td>July 22, 2021</td>\n",
              "      <td>2019</td>\n",
              "      <td>TV-14</td>\n",
              "      <td>5 Seasons</td>\n",
              "      <td>TV Dramas</td>\n",
              "      <td>The doctors and nurses of Gaffney Chicago Medi...</td>\n",
              "    </tr>\n",
              "    <tr>\n",
              "      <th>674</th>\n",
              "      <td>s675</td>\n",
              "      <td>TV Show</td>\n",
              "      <td>Pose</td>\n",
              "      <td>NaN</td>\n",
              "      <td>Mj Rodriguez, Billy Porter, Evan Peters, Kate ...</td>\n",
              "      <td>United States</td>\n",
              "      <td>June 19, 2021</td>\n",
              "      <td>2019</td>\n",
              "      <td>TV-MA</td>\n",
              "      <td>2 Seasons</td>\n",
              "      <td>TV Dramas</td>\n",
              "      <td>In 1987 New York, LGBTQ ball fixture Blanca st...</td>\n",
              "    </tr>\n",
              "    <tr>\n",
              "      <th>879</th>\n",
              "      <td>s880</td>\n",
              "      <td>TV Show</td>\n",
              "      <td>Halston</td>\n",
              "      <td>Daniel Minahan</td>\n",
              "      <td>Ewan McGregor, Bill Pullman, Rebecca Dayan, Da...</td>\n",
              "      <td>United States</td>\n",
              "      <td>May 14, 2021</td>\n",
              "      <td>2021</td>\n",
              "      <td>TV-MA</td>\n",
              "      <td>1 Season</td>\n",
              "      <td>TV Dramas</td>\n",
              "      <td>His name built an empire. His style defined an...</td>\n",
              "    </tr>\n",
              "    <tr>\n",
              "      <th>920</th>\n",
              "      <td>s921</td>\n",
              "      <td>TV Show</td>\n",
              "      <td>Selena: The Series</td>\n",
              "      <td>NaN</td>\n",
              "      <td>Christian Serratos, Gabriel Chavarria, Ricardo...</td>\n",
              "      <td>Mexico, United States</td>\n",
              "      <td>May 4, 2021</td>\n",
              "      <td>2020</td>\n",
              "      <td>TV-PG</td>\n",
              "      <td>2 Seasons</td>\n",
              "      <td>TV Dramas</td>\n",
              "      <td>Iconic Mexican-American performer Selena rises...</td>\n",
              "    </tr>\n",
              "    <tr>\n",
              "      <th>1354</th>\n",
              "      <td>s1355</td>\n",
              "      <td>TV Show</td>\n",
              "      <td>Heartland</td>\n",
              "      <td>NaN</td>\n",
              "      <td>Amber Marshall, Michelle Morgan, Graham Wardle...</td>\n",
              "      <td>Canada</td>\n",
              "      <td>February 1, 2021</td>\n",
              "      <td>2019</td>\n",
              "      <td>TV-14</td>\n",
              "      <td>13 Seasons</td>\n",
              "      <td>TV Dramas</td>\n",
              "      <td>Spunky teenager Amy is reeling from the sudden...</td>\n",
              "    </tr>\n",
              "  </tbody>\n",
              "</table>\n",
              "</div>\n",
              "      <button class=\"colab-df-convert\" onclick=\"convertToInteractive('df-4e9b54cb-372b-4471-a81f-b9988654474e')\"\n",
              "              title=\"Convert this dataframe to an interactive table.\"\n",
              "              style=\"display:none;\">\n",
              "        \n",
              "  <svg xmlns=\"http://www.w3.org/2000/svg\" height=\"24px\"viewBox=\"0 0 24 24\"\n",
              "       width=\"24px\">\n",
              "    <path d=\"M0 0h24v24H0V0z\" fill=\"none\"/>\n",
              "    <path d=\"M18.56 5.44l.94 2.06.94-2.06 2.06-.94-2.06-.94-.94-2.06-.94 2.06-2.06.94zm-11 1L8.5 8.5l.94-2.06 2.06-.94-2.06-.94L8.5 2.5l-.94 2.06-2.06.94zm10 10l.94 2.06.94-2.06 2.06-.94-2.06-.94-.94-2.06-.94 2.06-2.06.94z\"/><path d=\"M17.41 7.96l-1.37-1.37c-.4-.4-.92-.59-1.43-.59-.52 0-1.04.2-1.43.59L10.3 9.45l-7.72 7.72c-.78.78-.78 2.05 0 2.83L4 21.41c.39.39.9.59 1.41.59.51 0 1.02-.2 1.41-.59l7.78-7.78 2.81-2.81c.8-.78.8-2.07 0-2.86zM5.41 20L4 18.59l7.72-7.72 1.47 1.35L5.41 20z\"/>\n",
              "  </svg>\n",
              "      </button>\n",
              "      \n",
              "  <style>\n",
              "    .colab-df-container {\n",
              "      display:flex;\n",
              "      flex-wrap:wrap;\n",
              "      gap: 12px;\n",
              "    }\n",
              "\n",
              "    .colab-df-convert {\n",
              "      background-color: #E8F0FE;\n",
              "      border: none;\n",
              "      border-radius: 50%;\n",
              "      cursor: pointer;\n",
              "      display: none;\n",
              "      fill: #1967D2;\n",
              "      height: 32px;\n",
              "      padding: 0 0 0 0;\n",
              "      width: 32px;\n",
              "    }\n",
              "\n",
              "    .colab-df-convert:hover {\n",
              "      background-color: #E2EBFA;\n",
              "      box-shadow: 0px 1px 2px rgba(60, 64, 67, 0.3), 0px 1px 3px 1px rgba(60, 64, 67, 0.15);\n",
              "      fill: #174EA6;\n",
              "    }\n",
              "\n",
              "    [theme=dark] .colab-df-convert {\n",
              "      background-color: #3B4455;\n",
              "      fill: #D2E3FC;\n",
              "    }\n",
              "\n",
              "    [theme=dark] .colab-df-convert:hover {\n",
              "      background-color: #434B5C;\n",
              "      box-shadow: 0px 1px 3px 1px rgba(0, 0, 0, 0.15);\n",
              "      filter: drop-shadow(0px 1px 2px rgba(0, 0, 0, 0.3));\n",
              "      fill: #FFFFFF;\n",
              "    }\n",
              "  </style>\n",
              "\n",
              "      <script>\n",
              "        const buttonEl =\n",
              "          document.querySelector('#df-4e9b54cb-372b-4471-a81f-b9988654474e button.colab-df-convert');\n",
              "        buttonEl.style.display =\n",
              "          google.colab.kernel.accessAllowed ? 'block' : 'none';\n",
              "\n",
              "        async function convertToInteractive(key) {\n",
              "          const element = document.querySelector('#df-4e9b54cb-372b-4471-a81f-b9988654474e');\n",
              "          const dataTable =\n",
              "            await google.colab.kernel.invokeFunction('convertToInteractive',\n",
              "                                                     [key], {});\n",
              "          if (!dataTable) return;\n",
              "\n",
              "          const docLinkHtml = 'Like what you see? Visit the ' +\n",
              "            '<a target=\"_blank\" href=https://colab.research.google.com/notebooks/data_table.ipynb>data table notebook</a>'\n",
              "            + ' to learn more about interactive tables.';\n",
              "          element.innerHTML = '';\n",
              "          dataTable['output_type'] = 'display_data';\n",
              "          await google.colab.output.renderOutput(dataTable, element);\n",
              "          const docLink = document.createElement('div');\n",
              "          docLink.innerHTML = docLinkHtml;\n",
              "          element.appendChild(docLink);\n",
              "        }\n",
              "      </script>\n",
              "    </div>\n",
              "  </div>\n",
              "  "
            ]
          },
          "metadata": {},
          "execution_count": 150
        }
      ]
    },
    {
      "cell_type": "markdown",
      "source": [
        "\n",
        "**La commande db[(db['type']=='TV Show') & (db['listed_in']=='TV Dramas')].head() filtre le DataFrame db pour ne conserver que les lignes où la valeur de la colonne \"type\" est \"TV Show\" et la valeur de la colonne \"listed_in\" est \"TV Dramas\".**\n",
        "\n",
        "**Plus précisément, db['type'] =='TV Show' crée un masque booléen qui vaut True pour les lignes où la valeur de la colonne \"type\" est \"TV Show\" et False sinon. De même, db['listed_in']=='TV Dramas' crée un masque booléen qui vaut True pour les lignes où la valeur de la colonne \"listed_in\" est \"TV Dramas\" et False sinon.**\n",
        "\n",
        "**L'opérateur & combine ces deux masques pour créer un nouveau masque booléen qui vaut True uniquement pour les lignes qui satisfont les deux conditions à la fois. Finalement, l'expression db[(db['type']=='TV Show') & (db['listed_in']=='TV Dramas')].head() utilise ce masque booléen pour sélectionner uniquement les lignes du DataFrame db qui satisfont les deux conditions, et renvoie les 5 premières lignes du résultat.**\n",
        "\n",
        "**Ainsi, la commande renvoie les 5 premières séries du DataFrame db qui sont classées dans la catégorie \"TV Dramas\".***"
      ],
      "metadata": {
        "id": "dcJFLe-oEpnU"
      }
    },
    {
      "cell_type": "markdown",
      "source": [
        "# Le code suivant extrait toutes les entrées d'une DataFrame qui contiennent \"Anupam Kher\" dans la colonne \"cast\" :"
      ],
      "metadata": {
        "id": "dxiNfUxD9HVi"
      }
    },
    {
      "cell_type": "code",
      "source": [
        "a=db.dropna()\n",
        "\n",
        "a[a['cast'].str.contains('Anupam Kher')].head()"
      ],
      "metadata": {
        "colab": {
          "base_uri": "https://localhost:8080/",
          "height": 545
        },
        "id": "ZsfbM8zK3kcb",
        "outputId": "cbcd7a23-a9e2-4580-c7f6-592428324e2e"
      },
      "execution_count": null,
      "outputs": [
        {
          "output_type": "execute_result",
          "data": {
            "text/plain": [
              "    show_id   type                              title          director  \\\n",
              "192    s193  Movie                         C Kkompany      Sachin Yardi   \n",
              "202    s203  Movie                  Kyaa Kool Hai Hum    Sangeeth Sivan   \n",
              "204    s205  Movie           Kyaa Super Kool Hain Hum      Sachin Yardi   \n",
              "205    s206  Movie  Kyo Kii... Main Jhuth Nahin Bolta      David Dhawan   \n",
              "702    s703  Movie            Silver Linings Playbook  David O. Russell   \n",
              "\n",
              "                                                  cast        country  \\\n",
              "192  Mithun Chakraborty, Tusshar Kapoor, Anupam Khe...          India   \n",
              "202  Tusshar Kapoor, Riteish Deshmukh, Isha Koppika...          India   \n",
              "204  Tusshar Kapoor, Riteish Deshmukh, Anupam Kher,...          India   \n",
              "205  Govinda, Sushmita Sen, Rambha, Anupam Kher, Sa...          India   \n",
              "702  Bradley Cooper, Jennifer Lawrence, Robert De N...  United States   \n",
              "\n",
              "         Date_Added   release_year rating duration  \\\n",
              "192  August 27, 2021          2008  TV-14  127 min   \n",
              "202  August 27, 2021          2005  TV-MA  165 min   \n",
              "204  August 27, 2021          2012  TV-MA  136 min   \n",
              "205  August 27, 2021          2001  TV-14  150 min   \n",
              "702    June 17, 2021          2012      R  122 min   \n",
              "\n",
              "                                             listed_in  \\\n",
              "192  Action & Adventure, Comedies, International Mo...   \n",
              "202   Comedies, International Movies, Music & Musicals   \n",
              "204                     Comedies, International Movies   \n",
              "205   Comedies, International Movies, Sci-Fi & Fantasy   \n",
              "702               Comedies, Dramas, Independent Movies   \n",
              "\n",
              "                                           description  \n",
              "192  Three broke friends pose as an underworld gang...  \n",
              "202  Longtime friends Rahul and Karan head to Mumba...  \n",
              "204  An aspiring actor and a struggling DJ team up ...  \n",
              "205  The life and career of a lawyer are thrown int...  \n",
              "702  A man with bipolar disorder moves home with hi...  "
            ],
            "text/html": [
              "\n",
              "  <div id=\"df-c4f68ed8-b26d-4d92-8a33-fd2e18dffd24\">\n",
              "    <div class=\"colab-df-container\">\n",
              "      <div>\n",
              "<style scoped>\n",
              "    .dataframe tbody tr th:only-of-type {\n",
              "        vertical-align: middle;\n",
              "    }\n",
              "\n",
              "    .dataframe tbody tr th {\n",
              "        vertical-align: top;\n",
              "    }\n",
              "\n",
              "    .dataframe thead th {\n",
              "        text-align: right;\n",
              "    }\n",
              "</style>\n",
              "<table border=\"1\" class=\"dataframe\">\n",
              "  <thead>\n",
              "    <tr style=\"text-align: right;\">\n",
              "      <th></th>\n",
              "      <th>show_id</th>\n",
              "      <th>type</th>\n",
              "      <th>title</th>\n",
              "      <th>director</th>\n",
              "      <th>cast</th>\n",
              "      <th>country</th>\n",
              "      <th>Date_Added</th>\n",
              "      <th>release_year</th>\n",
              "      <th>rating</th>\n",
              "      <th>duration</th>\n",
              "      <th>listed_in</th>\n",
              "      <th>description</th>\n",
              "    </tr>\n",
              "  </thead>\n",
              "  <tbody>\n",
              "    <tr>\n",
              "      <th>192</th>\n",
              "      <td>s193</td>\n",
              "      <td>Movie</td>\n",
              "      <td>C Kkompany</td>\n",
              "      <td>Sachin Yardi</td>\n",
              "      <td>Mithun Chakraborty, Tusshar Kapoor, Anupam Khe...</td>\n",
              "      <td>India</td>\n",
              "      <td>August 27, 2021</td>\n",
              "      <td>2008</td>\n",
              "      <td>TV-14</td>\n",
              "      <td>127 min</td>\n",
              "      <td>Action &amp; Adventure, Comedies, International Mo...</td>\n",
              "      <td>Three broke friends pose as an underworld gang...</td>\n",
              "    </tr>\n",
              "    <tr>\n",
              "      <th>202</th>\n",
              "      <td>s203</td>\n",
              "      <td>Movie</td>\n",
              "      <td>Kyaa Kool Hai Hum</td>\n",
              "      <td>Sangeeth Sivan</td>\n",
              "      <td>Tusshar Kapoor, Riteish Deshmukh, Isha Koppika...</td>\n",
              "      <td>India</td>\n",
              "      <td>August 27, 2021</td>\n",
              "      <td>2005</td>\n",
              "      <td>TV-MA</td>\n",
              "      <td>165 min</td>\n",
              "      <td>Comedies, International Movies, Music &amp; Musicals</td>\n",
              "      <td>Longtime friends Rahul and Karan head to Mumba...</td>\n",
              "    </tr>\n",
              "    <tr>\n",
              "      <th>204</th>\n",
              "      <td>s205</td>\n",
              "      <td>Movie</td>\n",
              "      <td>Kyaa Super Kool Hain Hum</td>\n",
              "      <td>Sachin Yardi</td>\n",
              "      <td>Tusshar Kapoor, Riteish Deshmukh, Anupam Kher,...</td>\n",
              "      <td>India</td>\n",
              "      <td>August 27, 2021</td>\n",
              "      <td>2012</td>\n",
              "      <td>TV-MA</td>\n",
              "      <td>136 min</td>\n",
              "      <td>Comedies, International Movies</td>\n",
              "      <td>An aspiring actor and a struggling DJ team up ...</td>\n",
              "    </tr>\n",
              "    <tr>\n",
              "      <th>205</th>\n",
              "      <td>s206</td>\n",
              "      <td>Movie</td>\n",
              "      <td>Kyo Kii... Main Jhuth Nahin Bolta</td>\n",
              "      <td>David Dhawan</td>\n",
              "      <td>Govinda, Sushmita Sen, Rambha, Anupam Kher, Sa...</td>\n",
              "      <td>India</td>\n",
              "      <td>August 27, 2021</td>\n",
              "      <td>2001</td>\n",
              "      <td>TV-14</td>\n",
              "      <td>150 min</td>\n",
              "      <td>Comedies, International Movies, Sci-Fi &amp; Fantasy</td>\n",
              "      <td>The life and career of a lawyer are thrown int...</td>\n",
              "    </tr>\n",
              "    <tr>\n",
              "      <th>702</th>\n",
              "      <td>s703</td>\n",
              "      <td>Movie</td>\n",
              "      <td>Silver Linings Playbook</td>\n",
              "      <td>David O. Russell</td>\n",
              "      <td>Bradley Cooper, Jennifer Lawrence, Robert De N...</td>\n",
              "      <td>United States</td>\n",
              "      <td>June 17, 2021</td>\n",
              "      <td>2012</td>\n",
              "      <td>R</td>\n",
              "      <td>122 min</td>\n",
              "      <td>Comedies, Dramas, Independent Movies</td>\n",
              "      <td>A man with bipolar disorder moves home with hi...</td>\n",
              "    </tr>\n",
              "  </tbody>\n",
              "</table>\n",
              "</div>\n",
              "      <button class=\"colab-df-convert\" onclick=\"convertToInteractive('df-c4f68ed8-b26d-4d92-8a33-fd2e18dffd24')\"\n",
              "              title=\"Convert this dataframe to an interactive table.\"\n",
              "              style=\"display:none;\">\n",
              "        \n",
              "  <svg xmlns=\"http://www.w3.org/2000/svg\" height=\"24px\"viewBox=\"0 0 24 24\"\n",
              "       width=\"24px\">\n",
              "    <path d=\"M0 0h24v24H0V0z\" fill=\"none\"/>\n",
              "    <path d=\"M18.56 5.44l.94 2.06.94-2.06 2.06-.94-2.06-.94-.94-2.06-.94 2.06-2.06.94zm-11 1L8.5 8.5l.94-2.06 2.06-.94-2.06-.94L8.5 2.5l-.94 2.06-2.06.94zm10 10l.94 2.06.94-2.06 2.06-.94-2.06-.94-.94-2.06-.94 2.06-2.06.94z\"/><path d=\"M17.41 7.96l-1.37-1.37c-.4-.4-.92-.59-1.43-.59-.52 0-1.04.2-1.43.59L10.3 9.45l-7.72 7.72c-.78.78-.78 2.05 0 2.83L4 21.41c.39.39.9.59 1.41.59.51 0 1.02-.2 1.41-.59l7.78-7.78 2.81-2.81c.8-.78.8-2.07 0-2.86zM5.41 20L4 18.59l7.72-7.72 1.47 1.35L5.41 20z\"/>\n",
              "  </svg>\n",
              "      </button>\n",
              "      \n",
              "  <style>\n",
              "    .colab-df-container {\n",
              "      display:flex;\n",
              "      flex-wrap:wrap;\n",
              "      gap: 12px;\n",
              "    }\n",
              "\n",
              "    .colab-df-convert {\n",
              "      background-color: #E8F0FE;\n",
              "      border: none;\n",
              "      border-radius: 50%;\n",
              "      cursor: pointer;\n",
              "      display: none;\n",
              "      fill: #1967D2;\n",
              "      height: 32px;\n",
              "      padding: 0 0 0 0;\n",
              "      width: 32px;\n",
              "    }\n",
              "\n",
              "    .colab-df-convert:hover {\n",
              "      background-color: #E2EBFA;\n",
              "      box-shadow: 0px 1px 2px rgba(60, 64, 67, 0.3), 0px 1px 3px 1px rgba(60, 64, 67, 0.15);\n",
              "      fill: #174EA6;\n",
              "    }\n",
              "\n",
              "    [theme=dark] .colab-df-convert {\n",
              "      background-color: #3B4455;\n",
              "      fill: #D2E3FC;\n",
              "    }\n",
              "\n",
              "    [theme=dark] .colab-df-convert:hover {\n",
              "      background-color: #434B5C;\n",
              "      box-shadow: 0px 1px 3px 1px rgba(0, 0, 0, 0.15);\n",
              "      filter: drop-shadow(0px 1px 2px rgba(0, 0, 0, 0.3));\n",
              "      fill: #FFFFFF;\n",
              "    }\n",
              "  </style>\n",
              "\n",
              "      <script>\n",
              "        const buttonEl =\n",
              "          document.querySelector('#df-c4f68ed8-b26d-4d92-8a33-fd2e18dffd24 button.colab-df-convert');\n",
              "        buttonEl.style.display =\n",
              "          google.colab.kernel.accessAllowed ? 'block' : 'none';\n",
              "\n",
              "        async function convertToInteractive(key) {\n",
              "          const element = document.querySelector('#df-c4f68ed8-b26d-4d92-8a33-fd2e18dffd24');\n",
              "          const dataTable =\n",
              "            await google.colab.kernel.invokeFunction('convertToInteractive',\n",
              "                                                     [key], {});\n",
              "          if (!dataTable) return;\n",
              "\n",
              "          const docLinkHtml = 'Like what you see? Visit the ' +\n",
              "            '<a target=\"_blank\" href=https://colab.research.google.com/notebooks/data_table.ipynb>data table notebook</a>'\n",
              "            + ' to learn more about interactive tables.';\n",
              "          element.innerHTML = '';\n",
              "          dataTable['output_type'] = 'display_data';\n",
              "          await google.colab.output.renderOutput(dataTable, element);\n",
              "          const docLink = document.createElement('div');\n",
              "          docLink.innerHTML = docLinkHtml;\n",
              "          element.appendChild(docLink);\n",
              "        }\n",
              "      </script>\n",
              "    </div>\n",
              "  </div>\n",
              "  "
            ]
          },
          "metadata": {},
          "execution_count": 186
        }
      ]
    },
    {
      "cell_type": "markdown",
      "source": [
        ". a est la DataFrame contenant les données Netflix.\n",
        "\n",
        ". a['cast'] fait référence à la colonne \"cast\" de la DataFrame.\n",
        "\n",
        ". str.contains('Anupam Kher') crée un masque booléen qui sélectionne toutes les entrées où la chaîne \"Anupam Kher\" apparaît dans la colonne \"cast\".\n",
        "\n",
        ". Le résultat est une nouvelle DataFrame contenant toutes les entrées de la base de données Netflix où \"Anupam Kher\" apparaît dans la colonne \"cast\".\n"
      ],
      "metadata": {
        "id": "Au89d4lB9TnU"
      }
    },
    {
      "cell_type": "markdown",
      "source": [
        "# Le code suivant compte le nombre de valeurs uniques dans la colonne \"rating\" d'une DataFrame :"
      ],
      "metadata": {
        "id": "_Ol8RZr2-j-1"
      }
    },
    {
      "cell_type": "code",
      "source": [
        "db['rating'].nunique()"
      ],
      "metadata": {
        "colab": {
          "base_uri": "https://localhost:8080/"
        },
        "id": "CpB74eXD95QI",
        "outputId": "94c6a347-fc13-480a-96c4-3c21f31e7130"
      },
      "execution_count": null,
      "outputs": [
        {
          "output_type": "execute_result",
          "data": {
            "text/plain": [
              "17"
            ]
          },
          "metadata": {},
          "execution_count": 188
        }
      ]
    },
    {
      "cell_type": "markdown",
      "source": [
        "**La commande db['rating'].nunique() renvoie le nombre de valeurs uniques dans la colonne \"rating\" du DataFrame db. Plus précisément, elle applique la méthode nunique() à la colonne \"rating\" du DataFrame db, qui compte le nombre de valeurs uniques dans cette colonne. Cela permet de savoir combien de notes différentes ont été données aux films et séries présents dans le DataFrame.**"
      ],
      "metadata": {
        "id": "pXjz4QLPFOpG"
      }
    },
    {
      "cell_type": "markdown",
      "source": [
        ". **nunique() est une méthode de Pandas qui renvoie le nombre de valeurs uniques dans la colonne.**"
      ],
      "metadata": {
        "id": "2ewTeBqO-sWZ"
      }
    },
    {
      "cell_type": "markdown",
      "source": [
        "# Le code suivant affiche les différent type de \"rating\""
      ],
      "metadata": {
        "id": "9aPYyXVY-8xO"
      }
    },
    {
      "cell_type": "code",
      "source": [
        "db['rating'].unique()"
      ],
      "metadata": {
        "colab": {
          "base_uri": "https://localhost:8080/"
        },
        "id": "wVn3qKU2-4fn",
        "outputId": "187610d8-3488-4fd3-a336-4b2aa44dc1e4"
      },
      "execution_count": null,
      "outputs": [
        {
          "output_type": "execute_result",
          "data": {
            "text/plain": [
              "array(['PG-13', 'TV-MA', 'PG', 'TV-14', 'TV-PG', 'TV-Y', 'TV-Y7', 'R',\n",
              "       'TV-G', 'G', 'NC-17', '74 min', '84 min', '66 min', 'NR', nan,\n",
              "       'TV-Y7-FV', 'UR'], dtype=object)"
            ]
          },
          "metadata": {},
          "execution_count": 189
        }
      ]
    },
    {
      "cell_type": "markdown",
      "source": [
        "**La commande db['rating'].unique() renvoie un tableau NumPy contenant toutes les valeurs uniques présentes dans la colonne \"rating\" du DataFrame db.**\n",
        "\n",
        "**Dans le cas de la base de données Netflix, cette commande permet de voir les différentes notes données aux films et séries. Les notes peuvent prendre les valeurs suivantes : \"TV-MA\", \"TV-14\", \"TV-PG\", \"R\", \"PG-13\", \"TV-Y7-FV\", \"TV-Y7\", \"TV-G\", \"NR\", \"PG\", \"G\", \"UR\". Chacune de ces notes correspond à une classification qui indique le niveau de contenu inapproprié pour certaines tranches d'âge. Par exemple, \"TV-MA\" signifie que le contenu est réservé aux adultes.**"
      ],
      "metadata": {
        "id": "o-p8kuE9Fq8d"
      }
    },
    {
      "cell_type": "markdown",
      "source": [
        "# TOP 10 country producing Movies in Netflix"
      ],
      "metadata": {
        "id": "X1ts-VhiQs7I"
      }
    },
    {
      "cell_type": "code",
      "source": [
        "Movie_country=db[db['type']=='Movie']\n",
        "\n",
        "plt.figure(figsize=(12,6))\n",
        "sns.countplot(y='country', order=db['country'].value_counts().index[0:10],data=Movie_country)\n",
        "plt.title('TOP 10 country producing Movies in Netflix')"
      ],
      "metadata": {
        "colab": {
          "base_uri": "https://localhost:8080/",
          "height": 586
        },
        "id": "Z1VmOebQICzR",
        "outputId": "e290a35d-194a-4b5d-8aa0-bf0c788f9b45"
      },
      "execution_count": null,
      "outputs": [
        {
          "output_type": "execute_result",
          "data": {
            "text/plain": [
              "Text(0.5, 1.0, 'TOP 10 country producing Movies in Netflix')"
            ]
          },
          "metadata": {},
          "execution_count": 17
        },
        {
          "output_type": "display_data",
          "data": {
            "text/plain": [
              "<Figure size 1200x600 with 1 Axes>"
            ],
            "image/png": "[encoded data removed]"
          },
          "metadata": {}
        }
      ]
    },
    {
      "cell_type": "markdown",
      "source": [
        "\n",
        "**Cette commande trace un graphique de type countplot à l'aide de la bibliothèque seaborn.**\n",
        "\n",
        "**Le graphique affiche le nombre de films pour chaque pays figurant dans la colonne \"country\" du DataFrame db. Seuls les 10 premiers pays sont affichés, triés par ordre décroissant du nombre de films produits. Le paramètre y indique que l'axe des ordonnées doit représenter les pays.**\n",
        "\n",
        "**Le paramètre data indique que les données à utiliser pour tracer le graphique sont celles du DataFrame db.**\n",
        "\n",
        "**Le paramètre order permet de spécifier l'ordre dans lequel les catégories doivent être affichées sur l'axe des ordonnées. Dans ce cas-ci, l'ordre est spécifié en fonction du nombre de films produits par chaque pays, avec db['country'].value_counts().index[0:10] qui retourne les 10 pays ayant le plus grand nombre de films.**\n",
        "\n",
        "**Enfin, plt.title donne un titre au graphique.**"
      ],
      "metadata": {
        "id": "8QirE76dRx2y"
      }
    },
    {
      "cell_type": "code",
      "source": [
        "TVShow_country=db[db['type']=='TV Show']\n",
        "\n",
        "plt.figure(figsize=(12,6))\n",
        "sns.countplot(y='country', order=db['country'].value_counts().index[0:10],data=TVShow_country)\n",
        "plt.title('TOP 10 country producing TV show in Netflix')"
      ],
      "metadata": {
        "colab": {
          "base_uri": "https://localhost:8080/",
          "height": 586
        },
        "id": "blnQXpyVR7kO",
        "outputId": "58ff6697-812a-460f-a76c-3ce22bf32de5"
      },
      "execution_count": null,
      "outputs": [
        {
          "output_type": "execute_result",
          "data": {
            "text/plain": [
              "Text(0.5, 1.0, 'TOP 10 country producing TV show in Netflix')"
            ]
          },
          "metadata": {},
          "execution_count": 19
        },
        {
          "output_type": "display_data",
          "data": {
            "text/plain": [
              "<Figure size 1200x600 with 1 Axes>"
            ],
            "image/png": "[encoded data removed]"
          },
          "metadata": {}
        }
      ]
    },
    {
      "cell_type": "markdown",
      "source": [
        "**Cette commande trace un graphique de type countplot à l'aide de la bibliothèque seaborn.**\n",
        "\n",
        "**Le graphique affiche le nombre de séries TV pour chaque pays figurant dans la colonne \"country\" du DataFrame db. Seuls les 10 premiers pays sont affichés, triés par ordre décroissant du nombre de séries TV produites. Le paramètre y indique que l'axe des ordonnées doit représenter les pays.**\n",
        "\n",
        "**Le paramètre data indique que les données à utiliser pour tracer le graphique sont celles du DataFrame db.**\n",
        "\n",
        "**Le paramètre order permet de spécifier l'ordre dans lequel les catégories doivent être affichées sur l'axe des ordonnées. Dans ce cas-ci, l'ordre est spécifié en fonction du nombre de séries TV produites par chaque pays, avec db['country'].value_counts().index[0:10] qui retourne les 10 pays ayant le plus grand nombre de séries TV.**\n",
        "\n",
        "**Enfin, plt.title donne un titre au graphique.**"
      ],
      "metadata": {
        "id": "Tr2pX6B_TReS"
      }
    },
    {
      "cell_type": "markdown",
      "source": [
        "# un graphique à barres horizontales montrant les dix évaluations les plus courantes dans la colonne \"rating\" "
      ],
      "metadata": {
        "id": "BgUB0hkDYmxW"
      }
    },
    {
      "cell_type": "code",
      "source": [
        "plt.figure(figsize=(9,6))\n",
        "sns.countplot(y='rating',order=db['rating'].value_counts().index[0:10],data=db)"
      ],
      "metadata": {
        "colab": {
          "base_uri": "https://localhost:8080/",
          "height": 563
        },
        "id": "RXfQ6ulkUftq",
        "outputId": "ba2aed7f-ab68-42d5-a856-737ff4c46cd8"
      },
      "execution_count": null,
      "outputs": [
        {
          "output_type": "execute_result",
          "data": {
            "text/plain": [
              "<Axes: xlabel='count', ylabel='rating'>"
            ]
          },
          "metadata": {},
          "execution_count": 21
        },
        {
          "output_type": "display_data",
          "data": {
            "text/plain": [
              "<Figure size 900x600 with 1 Axes>"
            ],
            "image/png": "[encoded data removed]"
          },
          "metadata": {}
        }
      ]
    },
    {
      "cell_type": "markdown",
      "source": [
        "**Ce code utilise la bibliothèque de visualisation de données Seaborn pour créer un graphique à barres horizontales pour la colonne \"rating\" du dataframe \"db\".**\n",
        "\n",
        "**\"plt.figure(figsize=(9,6))\" définit la taille de la figure à 9 pouces de largeur et 6 pouces de hauteur.**\n",
        "\n",
        "**\"sns.countplot()\" est une commande de la bibliothèque Seaborn pour créer un graphique à barres horizontales, où l'axe vertical montre les catégories (dans ce cas les valeurs de la colonne \"rating\") et l'axe horizontal montre la fréquence de chaque catégorie.**\n",
        "\n",
        "**\"y='rating'\" définit la colonne \"rating\" comme l'axe vertical.**\n",
        "\n",
        "**\"order=db['rating'].value_counts().index[0:10]\" trie les catégories (valeurs de la colonne \"rating\") par ordre décroissant de fréquence, en prenant les 10 premières catégories les plus fréquentes.**\n",
        "**\"data=db\" spécifie que les données proviennent du dataframe \"db\".**"
      ],
      "metadata": {
        "id": "Cw-Ss-cXYCkn"
      }
    }
  ]
}